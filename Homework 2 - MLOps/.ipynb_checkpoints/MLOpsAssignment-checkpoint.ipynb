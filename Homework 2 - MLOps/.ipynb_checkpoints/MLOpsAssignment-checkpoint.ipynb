{
 "cells": [
  {
   "cell_type": "markdown",
   "id": "3adb3e46",
   "metadata": {},
   "source": [
    "# MLOps homework assignment 2 - Diabetes"
   ]
  },
  {
   "cell_type": "markdown",
   "id": "3bc01ad4",
   "metadata": {},
   "source": [
    "First, lets start out by installing and/or importing the necessary libraries."
   ]
  },
  {
   "cell_type": "code",
   "execution_count": 1,
   "id": "04aa6389",
   "metadata": {},
   "outputs": [
    {
     "name": "stdout",
     "output_type": "stream",
     "text": [
      "NumPy already installed, only imported\n",
      "PyPlot already installed, only imported\n",
      "pandas already installed, only imported\n",
      "sklearn already installed, only imported\n",
      "seaborn already installed, only imported\n"
     ]
    }
   ],
   "source": [
    "try:\n",
    "    import numpy as np\n",
    "    print('NumPy already installed, only imported')\n",
    "except:\n",
    "    !pip install numpy\n",
    "    import numpy as np\n",
    "    print('NumPy was not installed, installed and imported')\n",
    "      \n",
    "# pyplot as plt\n",
    "try:\n",
    "    import matplotlib.pyplot as plt\n",
    "    print('PyPlot already installed, only imported')\n",
    "except:\n",
    "    !pip install matplotlib\n",
    "    import matplotlib.pyplot as plt\n",
    "    print('PyPlot was not installed, installed and imported')\n",
    "\n",
    "# pandas as pd   \n",
    "try:\n",
    "    import pandas as pd\n",
    "    print('pandas already installed, only imported')\n",
    "except:\n",
    "    !pip install pandas\n",
    "    import pandas as pd\n",
    "    print('pandas was not installed, installed and imported')\n",
    "\n",
    "try:\n",
    "    import sklearn\n",
    "    print('sklearn already installed, only imported')\n",
    "except:\n",
    "    !pip install scikit-learn\n",
    "    import sklearn\n",
    "    print('sklearn was not installed, installed and imported')\n",
    "\n",
    "try:\n",
    "    import seaborn as sns\n",
    "    print('seaborn already installed, only imported')\n",
    "except:\n",
    "    !pip install seaborn\n",
    "    import seaborn as sns\n",
    "    print('seaborn was not installed, installed and imported')\n",
    "    \n",
    "from sklearn.pipeline import Pipeline"
   ]
  },
  {
   "cell_type": "markdown",
   "id": "0fefad48",
   "metadata": {},
   "source": [
    "Now, let's load the diabetes dataset and check it out"
   ]
  },
  {
   "cell_type": "code",
   "execution_count": 2,
   "id": "21780376",
   "metadata": {},
   "outputs": [
    {
     "data": {
      "text/html": [
       "<div>\n",
       "<style scoped>\n",
       "    .dataframe tbody tr th:only-of-type {\n",
       "        vertical-align: middle;\n",
       "    }\n",
       "\n",
       "    .dataframe tbody tr th {\n",
       "        vertical-align: top;\n",
       "    }\n",
       "\n",
       "    .dataframe thead th {\n",
       "        text-align: right;\n",
       "    }\n",
       "</style>\n",
       "<table border=\"1\" class=\"dataframe\">\n",
       "  <thead>\n",
       "    <tr style=\"text-align: right;\">\n",
       "      <th></th>\n",
       "      <th>age</th>\n",
       "      <th>sex</th>\n",
       "      <th>bmi</th>\n",
       "      <th>bp</th>\n",
       "      <th>s1</th>\n",
       "      <th>s2</th>\n",
       "      <th>s3</th>\n",
       "      <th>s4</th>\n",
       "      <th>s5</th>\n",
       "      <th>s6</th>\n",
       "      <th>progression</th>\n",
       "    </tr>\n",
       "  </thead>\n",
       "  <tbody>\n",
       "    <tr>\n",
       "      <th>0</th>\n",
       "      <td>59</td>\n",
       "      <td>2</td>\n",
       "      <td>32.1</td>\n",
       "      <td>101.0</td>\n",
       "      <td>157</td>\n",
       "      <td>93.2</td>\n",
       "      <td>38.0</td>\n",
       "      <td>4.0</td>\n",
       "      <td>4.8598</td>\n",
       "      <td>87</td>\n",
       "      <td>151</td>\n",
       "    </tr>\n",
       "    <tr>\n",
       "      <th>1</th>\n",
       "      <td>48</td>\n",
       "      <td>1</td>\n",
       "      <td>21.6</td>\n",
       "      <td>87.0</td>\n",
       "      <td>183</td>\n",
       "      <td>103.2</td>\n",
       "      <td>70.0</td>\n",
       "      <td>3.0</td>\n",
       "      <td>3.8918</td>\n",
       "      <td>69</td>\n",
       "      <td>75</td>\n",
       "    </tr>\n",
       "    <tr>\n",
       "      <th>2</th>\n",
       "      <td>72</td>\n",
       "      <td>2</td>\n",
       "      <td>30.5</td>\n",
       "      <td>93.0</td>\n",
       "      <td>156</td>\n",
       "      <td>93.6</td>\n",
       "      <td>41.0</td>\n",
       "      <td>4.0</td>\n",
       "      <td>4.6728</td>\n",
       "      <td>85</td>\n",
       "      <td>141</td>\n",
       "    </tr>\n",
       "    <tr>\n",
       "      <th>3</th>\n",
       "      <td>24</td>\n",
       "      <td>1</td>\n",
       "      <td>25.3</td>\n",
       "      <td>84.0</td>\n",
       "      <td>198</td>\n",
       "      <td>131.4</td>\n",
       "      <td>40.0</td>\n",
       "      <td>5.0</td>\n",
       "      <td>4.8903</td>\n",
       "      <td>89</td>\n",
       "      <td>206</td>\n",
       "    </tr>\n",
       "    <tr>\n",
       "      <th>4</th>\n",
       "      <td>50</td>\n",
       "      <td>1</td>\n",
       "      <td>23.0</td>\n",
       "      <td>101.0</td>\n",
       "      <td>192</td>\n",
       "      <td>125.4</td>\n",
       "      <td>52.0</td>\n",
       "      <td>4.0</td>\n",
       "      <td>4.2905</td>\n",
       "      <td>80</td>\n",
       "      <td>135</td>\n",
       "    </tr>\n",
       "  </tbody>\n",
       "</table>\n",
       "</div>"
      ],
      "text/plain": [
       "   age  sex   bmi     bp   s1     s2    s3   s4      s5  s6  progression\n",
       "0   59    2  32.1  101.0  157   93.2  38.0  4.0  4.8598  87          151\n",
       "1   48    1  21.6   87.0  183  103.2  70.0  3.0  3.8918  69           75\n",
       "2   72    2  30.5   93.0  156   93.6  41.0  4.0  4.6728  85          141\n",
       "3   24    1  25.3   84.0  198  131.4  40.0  5.0  4.8903  89          206\n",
       "4   50    1  23.0  101.0  192  125.4  52.0  4.0  4.2905  80          135"
      ]
     },
     "execution_count": 2,
     "metadata": {},
     "output_type": "execute_result"
    }
   ],
   "source": [
    "diabetes_DF = pd.read_csv('diabetes.tsv', sep='\\t').rename(columns={\n",
    "    'AGE': 'age', 'SEX': 'sex', 'BMI': 'bmi', \n",
    "    'BP': 'bp', 'S1': 's1', 'S2': 's2', 'S3': 's3', \n",
    "    'S4': 's4', 'S5': 's5', 'S6': 's6', 'Y': 'progression'})\n",
    "\n",
    "#diabetes_DF['sex'] = diabetes_DF['sex'].replace({1: 'Male', 2: 'Female'})\n",
    "\n",
    "\n",
    "diabetes_DF.head(5)"
   ]
  },
  {
   "cell_type": "markdown",
   "id": "4a433dc2",
   "metadata": {},
   "source": [
    "## Find top 3 predictive features according to 3 different methods of measuring predictiveness"
   ]
  },
  {
   "cell_type": "markdown",
   "id": "13692987",
   "metadata": {},
   "source": [
    "### Method #1: Feature importance"
   ]
  },
  {
   "cell_type": "code",
   "execution_count": null,
   "id": "9cabcff8",
   "metadata": {},
   "outputs": [],
   "source": [
    "import matplotlib.pyplot as plt\n",
    "import numpy as np\n",
    "from sklearn.linear_model import RidgeCV\n",
    "\n",
    "X, y = diabetes_DF.iloc[:, 0:10], diabetes_DF['progression'] \n",
    "\n",
    "ridge = RidgeCV(alphas=np.logspace(-6, 6, num=5)).fit(X, y)\n",
    "importance = np.abs(ridge.coef_)\n",
    "feature_names = np.array(X.columns)\n",
    "plt.bar(height=importance, x=feature_names)\n",
    "plt.title(\"Feature importances via coefficients\")\n",
    "plt.show()"
   ]
  },
  {
   "cell_type": "markdown",
   "id": "c66424a6",
   "metadata": {},
   "source": [
    "### Method #2: Correlation matrix"
   ]
  },
  {
   "cell_type": "code",
   "execution_count": null,
   "id": "a4e49d27",
   "metadata": {},
   "outputs": [],
   "source": [
    "correlation_matrix = diabetes_DF.corr()\n",
    "\n",
    "sns.heatmap(correlation_matrix, annot=True, cmap='coolwarm')"
   ]
  },
  {
   "cell_type": "markdown",
   "id": "d528611f",
   "metadata": {},
   "source": [
    "### Method #3: Univariate feature selection"
   ]
  },
  {
   "cell_type": "code",
   "execution_count": null,
   "id": "03a0db28",
   "metadata": {},
   "outputs": [],
   "source": [
    "from sklearn.feature_selection import SelectKBest, f_regression\n",
    "\n",
    "X = diabetes_DF.iloc[:, 0:10]\n",
    "y = diabetes_DF['progression']\n",
    "\n",
    "selector = SelectKBest(score_func=f_regression, k=5)  # Select top 5 features\n",
    "X_new = selector.fit_transform(X, y)\n",
    "selected_features = X.columns[selector.get_support(indices=True)]\n",
    "\n",
    "# Print selected features from univariate selection\n",
    "print(\"Selected Features from Univariate Selection:\")\n",
    "print(selected_features)"
   ]
  },
  {
   "cell_type": "markdown",
   "id": "80a96657",
   "metadata": {},
   "source": [
    "### Method #4: Mutual Information Scores"
   ]
  },
  {
   "cell_type": "code",
   "execution_count": null,
   "id": "26d69d6a",
   "metadata": {},
   "outputs": [],
   "source": [
    "from sklearn.feature_selection import mutual_info_regression\n",
    "mi_scores = mutual_info_regression(X, y)\n",
    "mi_scores = pd.Series(mi_scores, index=X.columns)\n",
    "mi_scores = mi_scores.sort_values(ascending=False)\n",
    "\n",
    "# Print mutual information scores\n",
    "print(\"Mutual Information Scores:\")\n",
    "print(mi_scores)"
   ]
  },
  {
   "cell_type": "markdown",
   "id": "cbc95a88",
   "metadata": {},
   "source": [
    "Now that we have tried various methods for determining the best features, let's take the top three from each one of them and then determine which three appear the most!\n",
    "\n",
    "Method 1: s1, s5, bmi<br>\n",
    "Method 2: bmi, s5, bp<br>\n",
    "Method 3: bmi, s5, bp<br>\n",
    "Method 4: bmi, s5, s6\n",
    "\n",
    "From this, we can concluded that the top 3 features are: **bmi**, **s5** and **bp**"
   ]
  },
  {
   "cell_type": "markdown",
   "id": "dafd9ab8",
   "metadata": {},
   "source": [
    "## Design 2 new features"
   ]
  },
  {
   "cell_type": "markdown",
   "id": "060efac3",
   "metadata": {},
   "source": [
    "Given the fact that the our top three features are bmi, s5 and bp, it would only be appropriate if the two 2 new features were related to these features.\n",
    "\n",
    "For the 2 new features, I want to choose blood pressure category and bmi category. For the blood pressure category, I want to add 'Normal', 'Elevated', 'High' and 'Extremely High' categories. As for the bmi category, I want to add 'Underweight', 'Normal Weight', 'Overweight' and 'Obese' categories."
   ]
  },
  {
   "cell_type": "code",
   "execution_count": 3,
   "id": "fc0665d0",
   "metadata": {},
   "outputs": [],
   "source": [
    "diabetes_DF['bp_category'] = pd.cut(diabetes_DF['bp'], bins=[0, 80, 90, 120, 1000],\n",
    "                           labels=['Normal', 'Elevated', 'High', 'Extremely High'])\n",
    "\n",
    "\n",
    "diabetes_DF['bmi_category'] = pd.cut(diabetes_DF['bmi'], bins=[0, 18.5, 25, 30, 100],\n",
    "                            labels=['Underweight', 'Normal Weight', 'Overweight', 'Obese'])"
   ]
  },
  {
   "cell_type": "code",
   "execution_count": 4,
   "id": "20ac6688",
   "metadata": {},
   "outputs": [
    {
     "data": {
      "text/html": [
       "<div>\n",
       "<style scoped>\n",
       "    .dataframe tbody tr th:only-of-type {\n",
       "        vertical-align: middle;\n",
       "    }\n",
       "\n",
       "    .dataframe tbody tr th {\n",
       "        vertical-align: top;\n",
       "    }\n",
       "\n",
       "    .dataframe thead th {\n",
       "        text-align: right;\n",
       "    }\n",
       "</style>\n",
       "<table border=\"1\" class=\"dataframe\">\n",
       "  <thead>\n",
       "    <tr style=\"text-align: right;\">\n",
       "      <th></th>\n",
       "      <th>age</th>\n",
       "      <th>sex</th>\n",
       "      <th>bmi</th>\n",
       "      <th>bp</th>\n",
       "      <th>s1</th>\n",
       "      <th>s2</th>\n",
       "      <th>s3</th>\n",
       "      <th>s4</th>\n",
       "      <th>s5</th>\n",
       "      <th>s6</th>\n",
       "      <th>progression</th>\n",
       "      <th>bp_category</th>\n",
       "      <th>bmi_category</th>\n",
       "    </tr>\n",
       "  </thead>\n",
       "  <tbody>\n",
       "    <tr>\n",
       "      <th>0</th>\n",
       "      <td>59</td>\n",
       "      <td>2</td>\n",
       "      <td>32.1</td>\n",
       "      <td>101.0</td>\n",
       "      <td>157</td>\n",
       "      <td>93.2</td>\n",
       "      <td>38.0</td>\n",
       "      <td>4.0</td>\n",
       "      <td>4.8598</td>\n",
       "      <td>87</td>\n",
       "      <td>151</td>\n",
       "      <td>High</td>\n",
       "      <td>Obese</td>\n",
       "    </tr>\n",
       "    <tr>\n",
       "      <th>1</th>\n",
       "      <td>48</td>\n",
       "      <td>1</td>\n",
       "      <td>21.6</td>\n",
       "      <td>87.0</td>\n",
       "      <td>183</td>\n",
       "      <td>103.2</td>\n",
       "      <td>70.0</td>\n",
       "      <td>3.0</td>\n",
       "      <td>3.8918</td>\n",
       "      <td>69</td>\n",
       "      <td>75</td>\n",
       "      <td>Elevated</td>\n",
       "      <td>Normal Weight</td>\n",
       "    </tr>\n",
       "    <tr>\n",
       "      <th>2</th>\n",
       "      <td>72</td>\n",
       "      <td>2</td>\n",
       "      <td>30.5</td>\n",
       "      <td>93.0</td>\n",
       "      <td>156</td>\n",
       "      <td>93.6</td>\n",
       "      <td>41.0</td>\n",
       "      <td>4.0</td>\n",
       "      <td>4.6728</td>\n",
       "      <td>85</td>\n",
       "      <td>141</td>\n",
       "      <td>High</td>\n",
       "      <td>Obese</td>\n",
       "    </tr>\n",
       "    <tr>\n",
       "      <th>3</th>\n",
       "      <td>24</td>\n",
       "      <td>1</td>\n",
       "      <td>25.3</td>\n",
       "      <td>84.0</td>\n",
       "      <td>198</td>\n",
       "      <td>131.4</td>\n",
       "      <td>40.0</td>\n",
       "      <td>5.0</td>\n",
       "      <td>4.8903</td>\n",
       "      <td>89</td>\n",
       "      <td>206</td>\n",
       "      <td>Elevated</td>\n",
       "      <td>Overweight</td>\n",
       "    </tr>\n",
       "    <tr>\n",
       "      <th>4</th>\n",
       "      <td>50</td>\n",
       "      <td>1</td>\n",
       "      <td>23.0</td>\n",
       "      <td>101.0</td>\n",
       "      <td>192</td>\n",
       "      <td>125.4</td>\n",
       "      <td>52.0</td>\n",
       "      <td>4.0</td>\n",
       "      <td>4.2905</td>\n",
       "      <td>80</td>\n",
       "      <td>135</td>\n",
       "      <td>High</td>\n",
       "      <td>Normal Weight</td>\n",
       "    </tr>\n",
       "  </tbody>\n",
       "</table>\n",
       "</div>"
      ],
      "text/plain": [
       "   age  sex   bmi     bp   s1     s2    s3   s4      s5  s6  progression  \\\n",
       "0   59    2  32.1  101.0  157   93.2  38.0  4.0  4.8598  87          151   \n",
       "1   48    1  21.6   87.0  183  103.2  70.0  3.0  3.8918  69           75   \n",
       "2   72    2  30.5   93.0  156   93.6  41.0  4.0  4.6728  85          141   \n",
       "3   24    1  25.3   84.0  198  131.4  40.0  5.0  4.8903  89          206   \n",
       "4   50    1  23.0  101.0  192  125.4  52.0  4.0  4.2905  80          135   \n",
       "\n",
       "  bp_category   bmi_category  \n",
       "0        High          Obese  \n",
       "1    Elevated  Normal Weight  \n",
       "2        High          Obese  \n",
       "3    Elevated     Overweight  \n",
       "4        High  Normal Weight  "
      ]
     },
     "execution_count": 4,
     "metadata": {},
     "output_type": "execute_result"
    }
   ],
   "source": [
    "diabetes_DF.head(5)"
   ]
  },
  {
   "cell_type": "markdown",
   "id": "e6ea1986",
   "metadata": {},
   "source": [
    "## Pre-process necessary features"
   ]
  },
  {
   "cell_type": "code",
   "execution_count": 5,
   "id": "41a1d4b8",
   "metadata": {},
   "outputs": [],
   "source": [
    "from sklearn.preprocessing import StandardScaler\n",
    "from sklearn.impute import SimpleImputer\n",
    "from sklearn.preprocessing import OneHotEncoder\n",
    "from sklearn.feature_selection import SelectPercentile, chi2\n",
    "from sklearn.compose import ColumnTransformer\n",
    "from sklearn.linear_model import LinearRegression\n",
    "from sklearn.preprocessing import FunctionTransformer"
   ]
  },
  {
   "cell_type": "code",
   "execution_count": 16,
   "id": "f4a9137c",
   "metadata": {},
   "outputs": [
    {
     "data": {
      "text/plain": [
       "age             0\n",
       "sex             0\n",
       "bmi             0\n",
       "bp              0\n",
       "s1              0\n",
       "s2              0\n",
       "s3              0\n",
       "s4              0\n",
       "s5              0\n",
       "s6              0\n",
       "progression     0\n",
       "bp_category     0\n",
       "bmi_category    0\n",
       "dtype: int64"
      ]
     },
     "execution_count": 16,
     "metadata": {},
     "output_type": "execute_result"
    }
   ],
   "source": [
    "diabetes_DF.isnull().sum()"
   ]
  },
  {
   "cell_type": "code",
   "execution_count": 134,
   "id": "921e8695",
   "metadata": {},
   "outputs": [],
   "source": [
    " numeric_features = ['bmi', 's5', 'bp']\n",
    "#numeric_features = ['s5']\n",
    "numeric_transformer = Pipeline(steps = [(\"imputer\", SimpleImputer(strategy=\"median\")), (\"scaler\", StandardScaler())])"
   ]
  },
  {
   "cell_type": "code",
   "execution_count": 123,
   "id": "33a11cb0",
   "metadata": {},
   "outputs": [],
   "source": [
    "#categorical_features = ['bp_category', 'bmi_category']\n",
    "#categorical_transformer = Pipeline(steps=[(\"encoder\", OneHotEncoder(handle_unknown=\"ignore\")), (\"selector\", SelectPercentile(chi2, percentile=50))])"
   ]
  },
  {
   "cell_type": "code",
   "execution_count": 135,
   "id": "59da2a2f",
   "metadata": {},
   "outputs": [],
   "source": [
    "#preprocessor = ColumnTransformer(transformers=[(\"num\", numeric_transformer, numeric_features),(\"cat\", categorical_transformer, categorical_features)])\n",
    "preprocessor = ColumnTransformer(transformers=[(\"num\", numeric_transformer, numeric_features)])\n",
    "#preprocessor = ColumnTransformer(transformers=[(\"cat\", categorical_transformer, categorical_features)])"
   ]
  },
  {
   "cell_type": "markdown",
   "id": "89a7675d",
   "metadata": {},
   "source": [
    "## Predict how disease progresses 1 year from datapoint"
   ]
  },
  {
   "cell_type": "code",
   "execution_count": 136,
   "id": "f978ad28",
   "metadata": {},
   "outputs": [],
   "source": [
    "model = Pipeline(steps=[(\"preprocessor\", preprocessor), (\"classifier\", LinearRegression())])"
   ]
  },
  {
   "cell_type": "code",
   "execution_count": 137,
   "id": "7389b53c",
   "metadata": {},
   "outputs": [],
   "source": [
    "X = diabetes_DF[['bmi', 's5', 'bp']]\n",
    "#X = diabetes_DF[['bp_category', 'bmi_category', 's5']]\n",
    "y = diabetes_DF['progression']"
   ]
  },
  {
   "cell_type": "code",
   "execution_count": 138,
   "id": "e5b36b27",
   "metadata": {},
   "outputs": [],
   "source": [
    "from sklearn.model_selection import train_test_split\n",
    "\n",
    "X_train, X_test, y_train, y_test = train_test_split(X, y, test_size=0.2, random_state=42)"
   ]
  },
  {
   "cell_type": "code",
   "execution_count": 139,
   "id": "fb86242a",
   "metadata": {},
   "outputs": [
    {
     "data": {
      "text/html": [
       "<style>#sk-container-id-9 {color: black;background-color: white;}#sk-container-id-9 pre{padding: 0;}#sk-container-id-9 div.sk-toggleable {background-color: white;}#sk-container-id-9 label.sk-toggleable__label {cursor: pointer;display: block;width: 100%;margin-bottom: 0;padding: 0.3em;box-sizing: border-box;text-align: center;}#sk-container-id-9 label.sk-toggleable__label-arrow:before {content: \"▸\";float: left;margin-right: 0.25em;color: #696969;}#sk-container-id-9 label.sk-toggleable__label-arrow:hover:before {color: black;}#sk-container-id-9 div.sk-estimator:hover label.sk-toggleable__label-arrow:before {color: black;}#sk-container-id-9 div.sk-toggleable__content {max-height: 0;max-width: 0;overflow: hidden;text-align: left;background-color: #f0f8ff;}#sk-container-id-9 div.sk-toggleable__content pre {margin: 0.2em;color: black;border-radius: 0.25em;background-color: #f0f8ff;}#sk-container-id-9 input.sk-toggleable__control:checked~div.sk-toggleable__content {max-height: 200px;max-width: 100%;overflow: auto;}#sk-container-id-9 input.sk-toggleable__control:checked~label.sk-toggleable__label-arrow:before {content: \"▾\";}#sk-container-id-9 div.sk-estimator input.sk-toggleable__control:checked~label.sk-toggleable__label {background-color: #d4ebff;}#sk-container-id-9 div.sk-label input.sk-toggleable__control:checked~label.sk-toggleable__label {background-color: #d4ebff;}#sk-container-id-9 input.sk-hidden--visually {border: 0;clip: rect(1px 1px 1px 1px);clip: rect(1px, 1px, 1px, 1px);height: 1px;margin: -1px;overflow: hidden;padding: 0;position: absolute;width: 1px;}#sk-container-id-9 div.sk-estimator {font-family: monospace;background-color: #f0f8ff;border: 1px dotted black;border-radius: 0.25em;box-sizing: border-box;margin-bottom: 0.5em;}#sk-container-id-9 div.sk-estimator:hover {background-color: #d4ebff;}#sk-container-id-9 div.sk-parallel-item::after {content: \"\";width: 100%;border-bottom: 1px solid gray;flex-grow: 1;}#sk-container-id-9 div.sk-label:hover label.sk-toggleable__label {background-color: #d4ebff;}#sk-container-id-9 div.sk-serial::before {content: \"\";position: absolute;border-left: 1px solid gray;box-sizing: border-box;top: 0;bottom: 0;left: 50%;z-index: 0;}#sk-container-id-9 div.sk-serial {display: flex;flex-direction: column;align-items: center;background-color: white;padding-right: 0.2em;padding-left: 0.2em;position: relative;}#sk-container-id-9 div.sk-item {position: relative;z-index: 1;}#sk-container-id-9 div.sk-parallel {display: flex;align-items: stretch;justify-content: center;background-color: white;position: relative;}#sk-container-id-9 div.sk-item::before, #sk-container-id-9 div.sk-parallel-item::before {content: \"\";position: absolute;border-left: 1px solid gray;box-sizing: border-box;top: 0;bottom: 0;left: 50%;z-index: -1;}#sk-container-id-9 div.sk-parallel-item {display: flex;flex-direction: column;z-index: 1;position: relative;background-color: white;}#sk-container-id-9 div.sk-parallel-item:first-child::after {align-self: flex-end;width: 50%;}#sk-container-id-9 div.sk-parallel-item:last-child::after {align-self: flex-start;width: 50%;}#sk-container-id-9 div.sk-parallel-item:only-child::after {width: 0;}#sk-container-id-9 div.sk-dashed-wrapped {border: 1px dashed gray;margin: 0 0.4em 0.5em 0.4em;box-sizing: border-box;padding-bottom: 0.4em;background-color: white;}#sk-container-id-9 div.sk-label label {font-family: monospace;font-weight: bold;display: inline-block;line-height: 1.2em;}#sk-container-id-9 div.sk-label-container {text-align: center;}#sk-container-id-9 div.sk-container {/* jupyter's `normalize.less` sets `[hidden] { display: none; }` but bootstrap.min.css set `[hidden] { display: none !important; }` so we also need the `!important` here to be able to override the default hidden behavior on the sphinx rendered scikit-learn.org. See: https://github.com/scikit-learn/scikit-learn/issues/21755 */display: inline-block !important;position: relative;}#sk-container-id-9 div.sk-text-repr-fallback {display: none;}</style><div id=\"sk-container-id-9\" class=\"sk-top-container\"><div class=\"sk-text-repr-fallback\"><pre>Pipeline(steps=[(&#x27;preprocessor&#x27;,\n",
       "                 ColumnTransformer(transformers=[(&#x27;num&#x27;,\n",
       "                                                  Pipeline(steps=[(&#x27;imputer&#x27;,\n",
       "                                                                   SimpleImputer(strategy=&#x27;median&#x27;)),\n",
       "                                                                  (&#x27;scaler&#x27;,\n",
       "                                                                   StandardScaler())]),\n",
       "                                                  [&#x27;bmi&#x27;, &#x27;s5&#x27;, &#x27;bp&#x27;])])),\n",
       "                (&#x27;classifier&#x27;, LinearRegression())])</pre><b>In a Jupyter environment, please rerun this cell to show the HTML representation or trust the notebook. <br />On GitHub, the HTML representation is unable to render, please try loading this page with nbviewer.org.</b></div><div class=\"sk-container\" hidden><div class=\"sk-item sk-dashed-wrapped\"><div class=\"sk-label-container\"><div class=\"sk-label sk-toggleable\"><input class=\"sk-toggleable__control sk-hidden--visually\" id=\"sk-estimator-id-58\" type=\"checkbox\" ><label for=\"sk-estimator-id-58\" class=\"sk-toggleable__label sk-toggleable__label-arrow\">Pipeline</label><div class=\"sk-toggleable__content\"><pre>Pipeline(steps=[(&#x27;preprocessor&#x27;,\n",
       "                 ColumnTransformer(transformers=[(&#x27;num&#x27;,\n",
       "                                                  Pipeline(steps=[(&#x27;imputer&#x27;,\n",
       "                                                                   SimpleImputer(strategy=&#x27;median&#x27;)),\n",
       "                                                                  (&#x27;scaler&#x27;,\n",
       "                                                                   StandardScaler())]),\n",
       "                                                  [&#x27;bmi&#x27;, &#x27;s5&#x27;, &#x27;bp&#x27;])])),\n",
       "                (&#x27;classifier&#x27;, LinearRegression())])</pre></div></div></div><div class=\"sk-serial\"><div class=\"sk-item sk-dashed-wrapped\"><div class=\"sk-label-container\"><div class=\"sk-label sk-toggleable\"><input class=\"sk-toggleable__control sk-hidden--visually\" id=\"sk-estimator-id-59\" type=\"checkbox\" ><label for=\"sk-estimator-id-59\" class=\"sk-toggleable__label sk-toggleable__label-arrow\">preprocessor: ColumnTransformer</label><div class=\"sk-toggleable__content\"><pre>ColumnTransformer(transformers=[(&#x27;num&#x27;,\n",
       "                                 Pipeline(steps=[(&#x27;imputer&#x27;,\n",
       "                                                  SimpleImputer(strategy=&#x27;median&#x27;)),\n",
       "                                                 (&#x27;scaler&#x27;, StandardScaler())]),\n",
       "                                 [&#x27;bmi&#x27;, &#x27;s5&#x27;, &#x27;bp&#x27;])])</pre></div></div></div><div class=\"sk-parallel\"><div class=\"sk-parallel-item\"><div class=\"sk-item\"><div class=\"sk-label-container\"><div class=\"sk-label sk-toggleable\"><input class=\"sk-toggleable__control sk-hidden--visually\" id=\"sk-estimator-id-60\" type=\"checkbox\" ><label for=\"sk-estimator-id-60\" class=\"sk-toggleable__label sk-toggleable__label-arrow\">num</label><div class=\"sk-toggleable__content\"><pre>[&#x27;bmi&#x27;, &#x27;s5&#x27;, &#x27;bp&#x27;]</pre></div></div></div><div class=\"sk-serial\"><div class=\"sk-item\"><div class=\"sk-serial\"><div class=\"sk-item\"><div class=\"sk-estimator sk-toggleable\"><input class=\"sk-toggleable__control sk-hidden--visually\" id=\"sk-estimator-id-61\" type=\"checkbox\" ><label for=\"sk-estimator-id-61\" class=\"sk-toggleable__label sk-toggleable__label-arrow\">SimpleImputer</label><div class=\"sk-toggleable__content\"><pre>SimpleImputer(strategy=&#x27;median&#x27;)</pre></div></div></div><div class=\"sk-item\"><div class=\"sk-estimator sk-toggleable\"><input class=\"sk-toggleable__control sk-hidden--visually\" id=\"sk-estimator-id-62\" type=\"checkbox\" ><label for=\"sk-estimator-id-62\" class=\"sk-toggleable__label sk-toggleable__label-arrow\">StandardScaler</label><div class=\"sk-toggleable__content\"><pre>StandardScaler()</pre></div></div></div></div></div></div></div></div></div></div><div class=\"sk-item\"><div class=\"sk-estimator sk-toggleable\"><input class=\"sk-toggleable__control sk-hidden--visually\" id=\"sk-estimator-id-63\" type=\"checkbox\" ><label for=\"sk-estimator-id-63\" class=\"sk-toggleable__label sk-toggleable__label-arrow\">LinearRegression</label><div class=\"sk-toggleable__content\"><pre>LinearRegression()</pre></div></div></div></div></div></div></div>"
      ],
      "text/plain": [
       "Pipeline(steps=[('preprocessor',\n",
       "                 ColumnTransformer(transformers=[('num',\n",
       "                                                  Pipeline(steps=[('imputer',\n",
       "                                                                   SimpleImputer(strategy='median')),\n",
       "                                                                  ('scaler',\n",
       "                                                                   StandardScaler())]),\n",
       "                                                  ['bmi', 's5', 'bp'])])),\n",
       "                ('classifier', LinearRegression())])"
      ]
     },
     "execution_count": 139,
     "metadata": {},
     "output_type": "execute_result"
    }
   ],
   "source": [
    "model.fit(X_train, y_train)"
   ]
  },
  {
   "cell_type": "code",
   "execution_count": 140,
   "id": "2094dd13",
   "metadata": {},
   "outputs": [
    {
     "data": {
      "text/html": [
       "<div>\n",
       "<style scoped>\n",
       "    .dataframe tbody tr th:only-of-type {\n",
       "        vertical-align: middle;\n",
       "    }\n",
       "\n",
       "    .dataframe tbody tr th {\n",
       "        vertical-align: top;\n",
       "    }\n",
       "\n",
       "    .dataframe thead th {\n",
       "        text-align: right;\n",
       "    }\n",
       "</style>\n",
       "<table border=\"1\" class=\"dataframe\">\n",
       "  <thead>\n",
       "    <tr style=\"text-align: right;\">\n",
       "      <th></th>\n",
       "      <th>bmi</th>\n",
       "      <th>s5</th>\n",
       "      <th>bp</th>\n",
       "    </tr>\n",
       "  </thead>\n",
       "  <tbody>\n",
       "    <tr>\n",
       "      <th>287</th>\n",
       "      <td>25.8</td>\n",
       "      <td>4.9972</td>\n",
       "      <td>90.0</td>\n",
       "    </tr>\n",
       "  </tbody>\n",
       "</table>\n",
       "</div>"
      ],
      "text/plain": [
       "      bmi      s5    bp\n",
       "287  25.8  4.9972  90.0"
      ]
     },
     "execution_count": 140,
     "metadata": {},
     "output_type": "execute_result"
    }
   ],
   "source": [
    "data_point = X_test.iloc[0:1]\n",
    "data_point"
   ]
  },
  {
   "cell_type": "code",
   "execution_count": 141,
   "id": "73da49e3",
   "metadata": {},
   "outputs": [
    {
     "name": "stdout",
     "output_type": "stream",
     "text": [
      "The predicted progression of the disease after 1 year of the datapoint is: [159.05042578]\n"
     ]
    }
   ],
   "source": [
    "y_pred = model.predict(data_point)\n",
    "print(f'The predicted progression of the disease after 1 year of the datapoint is: {y_pred}')"
   ]
  },
  {
   "cell_type": "markdown",
   "id": "72a2fdca",
   "metadata": {},
   "source": [
    "## Report score/accuracy in at least 2 different formats"
   ]
  },
  {
   "cell_type": "code",
   "execution_count": 142,
   "id": "a5df5760",
   "metadata": {},
   "outputs": [],
   "source": [
    "y_pred = model.predict(X_test)"
   ]
  },
  {
   "cell_type": "code",
   "execution_count": 143,
   "id": "2f8def12",
   "metadata": {},
   "outputs": [
    {
     "name": "stdout",
     "output_type": "stream",
     "text": [
      "Mean Squared Error:  2891.0372112919654\n"
     ]
    }
   ],
   "source": [
    "from sklearn.metrics import mean_squared_error\n",
    "\n",
    "mse = mean_squared_error(y_test, y_pred)\n",
    "print(\"Mean Squared Error: \", mse)"
   ]
  },
  {
   "cell_type": "code",
   "execution_count": 144,
   "id": "02447f42",
   "metadata": {},
   "outputs": [
    {
     "name": "stdout",
     "output_type": "stream",
     "text": [
      "The R-Squared score is: 0.45433099153843415\n"
     ]
    }
   ],
   "source": [
    "score = model.score(X_test, y_test)\n",
    "print(f'The R-Squared score is: {score}')"
   ]
  },
  {
   "cell_type": "code",
   "execution_count": null,
   "id": "78bd3323",
   "metadata": {},
   "outputs": [],
   "source": []
  },
  {
   "cell_type": "code",
   "execution_count": null,
   "id": "d1989f72",
   "metadata": {},
   "outputs": [],
   "source": []
  },
  {
   "cell_type": "code",
   "execution_count": null,
   "id": "479c41db",
   "metadata": {},
   "outputs": [],
   "source": []
  },
  {
   "cell_type": "code",
   "execution_count": null,
   "id": "86ea152e",
   "metadata": {},
   "outputs": [],
   "source": []
  },
  {
   "cell_type": "code",
   "execution_count": null,
   "id": "273677c3",
   "metadata": {},
   "outputs": [],
   "source": []
  },
  {
   "cell_type": "code",
   "execution_count": null,
   "id": "16c16cd5",
   "metadata": {},
   "outputs": [],
   "source": []
  },
  {
   "cell_type": "code",
   "execution_count": null,
   "id": "5810c433",
   "metadata": {},
   "outputs": [],
   "source": []
  },
  {
   "cell_type": "code",
   "execution_count": null,
   "id": "f90a8729",
   "metadata": {},
   "outputs": [],
   "source": []
  },
  {
   "cell_type": "code",
   "execution_count": null,
   "id": "2560e463",
   "metadata": {},
   "outputs": [],
   "source": []
  },
  {
   "cell_type": "markdown",
   "id": "5dbc62f2",
   "metadata": {},
   "source": [
    "BEYOND THIS IS THE OTHER DATASET!!!!"
   ]
  },
  {
   "cell_type": "code",
   "execution_count": null,
   "id": "c61d40a6",
   "metadata": {},
   "outputs": [],
   "source": [
    "from sklearn.datasets import load_diabetes\n",
    "\n",
    "#load the diabetes dataset\n",
    "diabetes_data = load_diabetes()"
   ]
  },
  {
   "cell_type": "markdown",
   "id": "d97dd925",
   "metadata": {},
   "source": [
    "Lets look a bit about the information of the dataset"
   ]
  },
  {
   "cell_type": "code",
   "execution_count": null,
   "id": "e147af30",
   "metadata": {},
   "outputs": [],
   "source": [
    "diabetes_desc = diabetes_data.DESCR\n",
    "print(diabetes_desc)"
   ]
  },
  {
   "cell_type": "markdown",
   "id": "5294c674",
   "metadata": {},
   "source": [
    "Let's convert the data into a dataframe and read out the first five rows within the data"
   ]
  },
  {
   "cell_type": "code",
   "execution_count": null,
   "id": "3f514053",
   "metadata": {},
   "outputs": [],
   "source": [
    "# transfer the data into a separate dataframe\n",
    "diabetes_DF = pd.DataFrame(diabetes_data.data, columns=diabetes_data.feature_names)\n",
    "\n",
    "#append the dependent variable to the dataframe\n",
    "diabetes_DF['progression'] = diabetes_data.target"
   ]
  },
  {
   "cell_type": "markdown",
   "id": "d52ddbfa",
   "metadata": {},
   "source": [
    "To briefly visualize the data, lets display the first five rows!"
   ]
  },
  {
   "cell_type": "code",
   "execution_count": null,
   "id": "c7c20a72",
   "metadata": {},
   "outputs": [],
   "source": [
    "diabetes_DF.head(5)"
   ]
  },
  {
   "cell_type": "markdown",
   "id": "22cd1148",
   "metadata": {},
   "source": [
    "## Pre-process necessary features"
   ]
  },
  {
   "cell_type": "markdown",
   "id": "f76bb351",
   "metadata": {},
   "source": [
    "From the looks of it, sci-kit has already done a few pre-propressing techniques on the given dataset. It appears that the data has been mean centered and scaled by the standard deviation times the square root of `n_samples` (i.e. the sum of squares of each column totals 1), as stated by sklearn.\n",
    "\n",
    "Aside from that, perhaps we can check if there are any missing values and if so, remove them."
   ]
  },
  {
   "cell_type": "code",
   "execution_count": null,
   "id": "0c720693",
   "metadata": {},
   "outputs": [],
   "source": [
    "diabetes_DF.isna().sum()"
   ]
  },
  {
   "cell_type": "markdown",
   "id": "2a0583e8",
   "metadata": {},
   "source": [
    "## Find top 3 predictive features according to 3 different methods of measuring predictiveness"
   ]
  },
  {
   "cell_type": "markdown",
   "id": "a6ee5ca5",
   "metadata": {},
   "source": [
    "### Method #1: Feature importance"
   ]
  },
  {
   "cell_type": "code",
   "execution_count": null,
   "id": "fad8242c",
   "metadata": {},
   "outputs": [],
   "source": [
    "import matplotlib.pyplot as plt\n",
    "import numpy as np\n",
    "from sklearn.linear_model import RidgeCV\n",
    "\n",
    "X, y = diabetes_DF.iloc[:, 0:10], diabetes_DF['progression'] \n",
    "\n",
    "ridge = RidgeCV(alphas=np.logspace(-6, 6, num=5)).fit(X, y)\n",
    "importance = np.abs(ridge.coef_)\n",
    "feature_names = np.array(diabetes_data.feature_names)\n",
    "plt.bar(height=importance, x=feature_names)\n",
    "plt.title(\"Feature importances via coefficients\")\n",
    "plt.show()"
   ]
  },
  {
   "cell_type": "markdown",
   "id": "9f8f9c32",
   "metadata": {},
   "source": [
    "### Method #2: Correlation matrix"
   ]
  },
  {
   "cell_type": "code",
   "execution_count": null,
   "id": "0030e4ab",
   "metadata": {},
   "outputs": [],
   "source": [
    "correlation_matrix = diabetes_DF.corr()\n",
    "\n",
    "sns.heatmap(correlation_matrix, annot=True, cmap='coolwarm')"
   ]
  },
  {
   "cell_type": "markdown",
   "id": "4a528f5b",
   "metadata": {},
   "source": [
    "### Method #3: Univariate feature selection"
   ]
  },
  {
   "cell_type": "code",
   "execution_count": null,
   "id": "7279bc30",
   "metadata": {},
   "outputs": [],
   "source": [
    "from sklearn.feature_selection import SelectKBest\n",
    "\n",
    "X = diabetes_DF.iloc[:, 0:10]\n",
    "y = diabetes_DF['progression']\n",
    "\n",
    "selector = SelectKBest(score_func=f_regression, k=5)  # Select top 5 features\n",
    "X_new = selector.fit_transform(X, y)\n",
    "selected_features = X.columns[selector.get_support(indices=True)]\n",
    "\n",
    "# Print selected features from univariate selection\n",
    "print(\"Selected Features from Univariate Selection:\")\n",
    "print(selected_features)"
   ]
  },
  {
   "cell_type": "markdown",
   "id": "435f71a8",
   "metadata": {},
   "source": [
    "### Method #4: Mutual Information Scores"
   ]
  },
  {
   "cell_type": "code",
   "execution_count": null,
   "id": "d34f7fed",
   "metadata": {},
   "outputs": [],
   "source": [
    "from sklearn.feature_selection import mutual_info_regression\n",
    "mi_scores = mutual_info_regression(X, y)\n",
    "mi_scores = pd.Series(mi_scores, index=X.columns)\n",
    "mi_scores = mi_scores.sort_values(ascending=False)\n",
    "\n",
    "# Print mutual information scores\n",
    "print(\"Mutual Information Scores:\")\n",
    "print(mi_scores)"
   ]
  },
  {
   "cell_type": "markdown",
   "id": "c5c08a41",
   "metadata": {},
   "source": [
    "Now that we have tried various methods for determining the best features, let's take the top three from each one of them and then determine which three appear the most!\n",
    "\n",
    "Method 1: s1, s5, bmi<br>\n",
    "Method 2: bmi, s5, bp<br>\n",
    "Method 3: bmi, s5, bp<br>\n",
    "Method 4: bmi, s5, s6\n",
    "\n",
    "From this, we can concluded that the top 3 features are: **bmi**, **s5** and **bp**"
   ]
  },
  {
   "cell_type": "markdown",
   "id": "57f08083",
   "metadata": {},
   "source": [
    "## Design 2 new features"
   ]
  },
  {
   "cell_type": "markdown",
   "id": "8ccda186",
   "metadata": {},
   "source": [
    "Now, lets design **two** new features to our dataset!"
   ]
  },
  {
   "cell_type": "code",
   "execution_count": null,
   "id": "f1b15285",
   "metadata": {},
   "outputs": [],
   "source": [
    "df = pd.read_csv('diabetes.tsv', sep='\\t')\n",
    "\n",
    "df.head(5)"
   ]
  },
  {
   "cell_type": "code",
   "execution_count": null,
   "id": "8587c4ca",
   "metadata": {},
   "outputs": [],
   "source": [
    "df['BP_CATEGORY'] = pd.cut(df['BP'], bins=[0, 80, 90, 120, 1000],\n",
    "                           labels=['Normal', 'Elevated', 'High', 'Hypertensive Crisis'])"
   ]
  },
  {
   "cell_type": "code",
   "execution_count": null,
   "id": "b7be0df1",
   "metadata": {},
   "outputs": [],
   "source": [
    "df['BMI_CATEGORY'] = pd.cut(df['BMI'], bins=[0, 18.5, 25, 30, 100],\n",
    "                            labels=['Underweight', 'Normal Weight', 'Overweight', 'Obese'])\n"
   ]
  },
  {
   "cell_type": "code",
   "execution_count": null,
   "id": "133fb4f9",
   "metadata": {},
   "outputs": [],
   "source": [
    "df.head(30)"
   ]
  },
  {
   "cell_type": "code",
   "execution_count": null,
   "id": "b7e62024",
   "metadata": {},
   "outputs": [],
   "source": []
  },
  {
   "cell_type": "code",
   "execution_count": null,
   "id": "cb3cfb17",
   "metadata": {},
   "outputs": [],
   "source": [
    "X_original"
   ]
  },
  {
   "cell_type": "markdown",
   "id": "87805b1d",
   "metadata": {},
   "source": [
    "## Predict how disease progresses 1 year from datapoint"
   ]
  },
  {
   "cell_type": "markdown",
   "id": "3987f6e6",
   "metadata": {},
   "source": [
    "Now, lets try to split our data into X and y variables. We will use **progression** as the dependent y variable and the and the **three selected features** at the independent X variable."
   ]
  },
  {
   "cell_type": "code",
   "execution_count": null,
   "id": "e1c478f6",
   "metadata": {},
   "outputs": [],
   "source": [
    "# converting the values to a numpy array (2D)\n",
    "diabetes_arr = diabetes_DF.values\n",
    "\n",
    "# X = diabetes_arr[:, 0:10]\n",
    "# y = diabetes_arr[:, 10]\n",
    "\n",
    "X = diabetes_DF[['bmi', 's5', 'bp']]\n",
    "y = diabetes_DF['progression']"
   ]
  },
  {
   "cell_type": "code",
   "execution_count": null,
   "id": "a8668832",
   "metadata": {},
   "outputs": [],
   "source": [
    "from sklearn.model_selection import train_test_split\n",
    "\n",
    "X_train, X_test, y_train, y_test = train_test_split(X, y, test_size=0.2, random_state=42)"
   ]
  },
  {
   "cell_type": "code",
   "execution_count": null,
   "id": "0856d330",
   "metadata": {},
   "outputs": [],
   "source": [
    "from sklearn.linear_model import LinearRegression\n",
    "from sklearn.preprocessing import FunctionTransformer\n",
    "\n",
    "pipeline = Pipeline([\n",
    "    ('classifier', LinearRegression())  # Linear Regression model\n",
    "])\n",
    "\n",
    "pipeline.fit(X_train, y_train)"
   ]
  },
  {
   "cell_type": "markdown",
   "id": "ab310a18",
   "metadata": {},
   "source": [
    "Lets pick a random data point to perform our regression algorithm on. For exmaple, let's take the first row."
   ]
  },
  {
   "cell_type": "code",
   "execution_count": null,
   "id": "4c3e4ca4",
   "metadata": {},
   "outputs": [],
   "source": [
    "data_point = X_test.iloc[0].values.reshape(1, -1)"
   ]
  },
  {
   "cell_type": "code",
   "execution_count": null,
   "id": "44688607",
   "metadata": {},
   "outputs": [],
   "source": [
    "y_pred = pipeline.predict(data_point)\n",
    "print(f'The predicted progression of the disease after 1 year of the datapoint is: {y_pred}')"
   ]
  },
  {
   "cell_type": "markdown",
   "id": "024d4e6f",
   "metadata": {},
   "source": [
    "## Report score/accuracy in at least 2 different formats"
   ]
  },
  {
   "cell_type": "markdown",
   "id": "b8cc1c9b",
   "metadata": {},
   "source": [
    "### Mean sqaured error (MSE)"
   ]
  },
  {
   "cell_type": "code",
   "execution_count": null,
   "id": "fa5cfeaf",
   "metadata": {},
   "outputs": [],
   "source": [
    "from sklearn.metrics import mean_squared_error\n",
    "\n",
    "mse = mean_squared_error(y_test, y_pred)\n",
    "print(\"Mean Squared Error: \", mse)"
   ]
  },
  {
   "cell_type": "markdown",
   "id": "b043917a",
   "metadata": {},
   "source": [
    "### R-Squared (R2 / determination coeffient)"
   ]
  },
  {
   "cell_type": "code",
   "execution_count": null,
   "id": "86316438",
   "metadata": {},
   "outputs": [],
   "source": [
    "score = pipeline.score(X_test, y_test)\n",
    "print(f'The R-Squared score is: {score}')"
   ]
  }
 ],
 "metadata": {
  "kernelspec": {
   "display_name": "Python 3 (ipykernel)",
   "language": "python",
   "name": "python3"
  },
  "language_info": {
   "codemirror_mode": {
    "name": "ipython",
    "version": 3
   },
   "file_extension": ".py",
   "mimetype": "text/x-python",
   "name": "python",
   "nbconvert_exporter": "python",
   "pygments_lexer": "ipython3",
   "version": "3.10.9"
  }
 },
 "nbformat": 4,
 "nbformat_minor": 5
}
