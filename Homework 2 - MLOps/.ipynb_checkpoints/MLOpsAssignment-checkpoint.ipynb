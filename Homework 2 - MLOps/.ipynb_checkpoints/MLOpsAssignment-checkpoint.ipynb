{
 "cells": [
  {
   "cell_type": "markdown",
   "id": "2f5ea55c",
   "metadata": {},
   "source": [
    "# MLOps homework assignment 2 - Diabetes"
   ]
  },
  {
   "cell_type": "markdown",
   "id": "d85f914d",
   "metadata": {},
   "source": [
    "First, lets start out by installing and/or importing the necessary starter libraries."
   ]
  },
  {
   "cell_type": "code",
   "execution_count": 1,
   "id": "d97ba8f5",
   "metadata": {},
   "outputs": [
    {
     "name": "stdout",
     "output_type": "stream",
     "text": [
      "NumPy already installed, only imported\n",
      "PyPlot already installed, only imported\n",
      "pandas already installed, only imported\n",
      "sklearn already installed, only imported\n",
      "seaborn already installed, only imported\n"
     ]
    }
   ],
   "source": [
    "try:\n",
    "    import numpy as np\n",
    "    print('NumPy already installed, only imported')\n",
    "except:\n",
    "    !pip install numpy\n",
    "    import numpy as np\n",
    "    print('NumPy was not installed, installed and imported')\n",
    "      \n",
    "# pyplot as plt\n",
    "try:\n",
    "    import matplotlib.pyplot as plt\n",
    "    print('PyPlot already installed, only imported')\n",
    "except:\n",
    "    !pip install matplotlib\n",
    "    import matplotlib.pyplot as plt\n",
    "    print('PyPlot was not installed, installed and imported')\n",
    "\n",
    "# pandas as pd   \n",
    "try:\n",
    "    import pandas as pd\n",
    "    print('pandas already installed, only imported')\n",
    "except:\n",
    "    !pip install pandas\n",
    "    import pandas as pd\n",
    "    print('pandas was not installed, installed and imported')\n",
    "\n",
    "try:\n",
    "    import sklearn\n",
    "    print('sklearn already installed, only imported')\n",
    "except:\n",
    "    !pip install scikit-learn\n",
    "    import sklearn\n",
    "    print('sklearn was not installed, installed and imported')\n",
    "\n",
    "try:\n",
    "    import seaborn as sns\n",
    "    print('seaborn already installed, only imported')\n",
    "except:\n",
    "    !pip install seaborn\n",
    "    import seaborn as sns\n",
    "    print('seaborn was not installed, installed and imported')"
   ]
  },
  {
   "cell_type": "markdown",
   "id": "f68ca7de",
   "metadata": {},
   "source": [
    "Now, let's load the diabetes dataset and check it out by displaying the first five rows."
   ]
  },
  {
   "cell_type": "code",
   "execution_count": 2,
   "id": "905c9bc9",
   "metadata": {},
   "outputs": [
    {
     "data": {
      "text/html": [
       "<div>\n",
       "<style scoped>\n",
       "    .dataframe tbody tr th:only-of-type {\n",
       "        vertical-align: middle;\n",
       "    }\n",
       "\n",
       "    .dataframe tbody tr th {\n",
       "        vertical-align: top;\n",
       "    }\n",
       "\n",
       "    .dataframe thead th {\n",
       "        text-align: right;\n",
       "    }\n",
       "</style>\n",
       "<table border=\"1\" class=\"dataframe\">\n",
       "  <thead>\n",
       "    <tr style=\"text-align: right;\">\n",
       "      <th></th>\n",
       "      <th>age</th>\n",
       "      <th>sex</th>\n",
       "      <th>bmi</th>\n",
       "      <th>bp</th>\n",
       "      <th>s1</th>\n",
       "      <th>s2</th>\n",
       "      <th>s3</th>\n",
       "      <th>s4</th>\n",
       "      <th>s5</th>\n",
       "      <th>s6</th>\n",
       "      <th>progression</th>\n",
       "    </tr>\n",
       "  </thead>\n",
       "  <tbody>\n",
       "    <tr>\n",
       "      <th>0</th>\n",
       "      <td>59</td>\n",
       "      <td>2</td>\n",
       "      <td>32.1</td>\n",
       "      <td>101.0</td>\n",
       "      <td>157</td>\n",
       "      <td>93.2</td>\n",
       "      <td>38.0</td>\n",
       "      <td>4.0</td>\n",
       "      <td>4.8598</td>\n",
       "      <td>87</td>\n",
       "      <td>151</td>\n",
       "    </tr>\n",
       "    <tr>\n",
       "      <th>1</th>\n",
       "      <td>48</td>\n",
       "      <td>1</td>\n",
       "      <td>21.6</td>\n",
       "      <td>87.0</td>\n",
       "      <td>183</td>\n",
       "      <td>103.2</td>\n",
       "      <td>70.0</td>\n",
       "      <td>3.0</td>\n",
       "      <td>3.8918</td>\n",
       "      <td>69</td>\n",
       "      <td>75</td>\n",
       "    </tr>\n",
       "    <tr>\n",
       "      <th>2</th>\n",
       "      <td>72</td>\n",
       "      <td>2</td>\n",
       "      <td>30.5</td>\n",
       "      <td>93.0</td>\n",
       "      <td>156</td>\n",
       "      <td>93.6</td>\n",
       "      <td>41.0</td>\n",
       "      <td>4.0</td>\n",
       "      <td>4.6728</td>\n",
       "      <td>85</td>\n",
       "      <td>141</td>\n",
       "    </tr>\n",
       "    <tr>\n",
       "      <th>3</th>\n",
       "      <td>24</td>\n",
       "      <td>1</td>\n",
       "      <td>25.3</td>\n",
       "      <td>84.0</td>\n",
       "      <td>198</td>\n",
       "      <td>131.4</td>\n",
       "      <td>40.0</td>\n",
       "      <td>5.0</td>\n",
       "      <td>4.8903</td>\n",
       "      <td>89</td>\n",
       "      <td>206</td>\n",
       "    </tr>\n",
       "    <tr>\n",
       "      <th>4</th>\n",
       "      <td>50</td>\n",
       "      <td>1</td>\n",
       "      <td>23.0</td>\n",
       "      <td>101.0</td>\n",
       "      <td>192</td>\n",
       "      <td>125.4</td>\n",
       "      <td>52.0</td>\n",
       "      <td>4.0</td>\n",
       "      <td>4.2905</td>\n",
       "      <td>80</td>\n",
       "      <td>135</td>\n",
       "    </tr>\n",
       "  </tbody>\n",
       "</table>\n",
       "</div>"
      ],
      "text/plain": [
       "   age  sex   bmi     bp   s1     s2    s3   s4      s5  s6  progression\n",
       "0   59    2  32.1  101.0  157   93.2  38.0  4.0  4.8598  87          151\n",
       "1   48    1  21.6   87.0  183  103.2  70.0  3.0  3.8918  69           75\n",
       "2   72    2  30.5   93.0  156   93.6  41.0  4.0  4.6728  85          141\n",
       "3   24    1  25.3   84.0  198  131.4  40.0  5.0  4.8903  89          206\n",
       "4   50    1  23.0  101.0  192  125.4  52.0  4.0  4.2905  80          135"
      ]
     },
     "execution_count": 2,
     "metadata": {},
     "output_type": "execute_result"
    }
   ],
   "source": [
    "#read out the tsv file and rename columns (personal preference)\n",
    "diabetes_DF = pd.read_csv('diabetes.tsv', sep='\\t').rename(columns={\n",
    "    'AGE': 'age', 'SEX': 'sex', 'BMI': 'bmi', \n",
    "    'BP': 'bp', 'S1': 's1', 'S2': 's2', 'S3': 's3', \n",
    "    'S4': 's4', 'S5': 's5', 'S6': 's6', 'Y': 'progression'})\n",
    "\n",
    "#show first 5 rows\n",
    "diabetes_DF.head(5)"
   ]
  },
  {
   "cell_type": "markdown",
   "id": "d35180eb",
   "metadata": {},
   "source": [
    "Information regarding the different columns within the dataset can read up-on below"
   ]
  },
  {
   "cell_type": "code",
   "execution_count": 3,
   "id": "67436b6a",
   "metadata": {},
   "outputs": [
    {
     "name": "stdout",
     "output_type": "stream",
     "text": [
      ".. _diabetes_dataset:\n",
      "\n",
      "Diabetes dataset\n",
      "----------------\n",
      "\n",
      "Ten baseline variables, age, sex, body mass index, average blood\n",
      "pressure, and six blood serum measurements were obtained for each of n =\n",
      "442 diabetes patients, as well as the response of interest, a\n",
      "quantitative measure of disease progression one year after baseline.\n",
      "\n",
      "**Data Set Characteristics:**\n",
      "\n",
      "  :Number of Instances: 442\n",
      "\n",
      "  :Number of Attributes: First 10 columns are numeric predictive values\n",
      "\n",
      "  :Target: Column 11 is a quantitative measure of disease progression one year after baseline\n",
      "\n",
      "  :Attribute Information:\n",
      "      - age     age in years\n",
      "      - sex\n",
      "      - bmi     body mass index\n",
      "      - bp      average blood pressure\n",
      "      - s1      tc, total serum cholesterol\n",
      "      - s2      ldl, low-density lipoproteins\n",
      "      - s3      hdl, high-density lipoproteins\n",
      "      - s4      tch, total cholesterol / HDL\n",
      "      - s5      ltg, possibly log of serum triglycerides level\n",
      "      - s6      glu, blood sugar level\n",
      "\n",
      "Note: Each of these 10 feature variables have been mean centered and scaled by the standard deviation times the square root of `n_samples` (i.e. the sum of squares of each column totals 1).\n",
      "\n",
      "Source URL:\n",
      "https://www4.stat.ncsu.edu/~boos/var.select/diabetes.html\n",
      "\n",
      "For more information see:\n",
      "Bradley Efron, Trevor Hastie, Iain Johnstone and Robert Tibshirani (2004) \"Least Angle Regression,\" Annals of Statistics (with discussion), 407-499.\n",
      "(https://web.stanford.edu/~hastie/Papers/LARS/LeastAngle_2002.pdf)\n",
      "\n"
     ]
    }
   ],
   "source": [
    "from sklearn.datasets import load_diabetes\n",
    "\n",
    "#load the diabetes dataset\n",
    "diabetes_data = load_diabetes()\n",
    "\n",
    "diabetes_desc = diabetes_data.DESCR\n",
    "print(diabetes_desc)"
   ]
  },
  {
   "cell_type": "markdown",
   "id": "55c1447a",
   "metadata": {},
   "source": [
    "## Find top 3 predictive features according to 3 different methods of measuring predictiveness"
   ]
  },
  {
   "cell_type": "markdown",
   "id": "65e9dc67",
   "metadata": {},
   "source": [
    "### Method #1: Feature importance"
   ]
  },
  {
   "cell_type": "markdown",
   "id": "db7bab43",
   "metadata": {},
   "source": [
    "Feature importance refers to a technique used in machine learning to determine the relevance or contribution of each feature (input variable) in predicting the target variable. It helps identify which features have a stronger influence on the model's predictions and can provide insights into the underlying relationships between the features and the target variable.\n",
    "\n",
    "For this method, I will be using the **RandomForestRegressor** since it contains the **feature_importances** variable"
   ]
  },
  {
   "cell_type": "code",
   "execution_count": 4,
   "id": "826867e2",
   "metadata": {},
   "outputs": [
    {
     "data": {
      "image/png": "[encoded data removed]",
      "text/plain": [
       "<Figure size 720x432 with 1 Axes>"
      ]
     },
     "metadata": {
      "needs_background": "light"
     },
     "output_type": "display_data"
    }
   ],
   "source": [
    "from sklearn.ensemble import RandomForestRegressor\n",
    "\n",
    "X, y = diabetes_DF.iloc[:, 0:10], diabetes_DF['progression']\n",
    "\n",
    "model = RandomForestRegressor()\n",
    "model.fit(X, y)\n",
    "importances = model.feature_importances_\n",
    "\n",
    "# Sort the importances in descending order\n",
    "sorted_indices = np.argsort(importances)[::-1]\n",
    "sorted_importances = importances[sorted_indices]\n",
    "sorted_feature_names = X.columns[sorted_indices]\n",
    "\n",
    "# Plot the feature importances\n",
    "plt.figure(figsize=(10, 6))\n",
    "plt.bar(range(len(sorted_importances)), sorted_importances, tick_label=sorted_feature_names)\n",
    "plt.xticks(rotation=90)\n",
    "plt.xlabel('Features')\n",
    "plt.ylabel('Importance')\n",
    "plt.title('Feature Importance')\n",
    "plt.tight_layout()\n",
    "plt.show()"
   ]
  },
  {
   "cell_type": "markdown",
   "id": "f77d2560",
   "metadata": {},
   "source": [
    "### Method #2: Correlation matrix"
   ]
  },
  {
   "cell_type": "markdown",
   "id": "9bd1673c",
   "metadata": {},
   "source": [
    "A correlation matrix is a square matrix that displays the correlation coefficients between pairs of variables in a dataset. It provides a summary of the linear relationship between multiple variables, allowing you to assess the strength and direction of the relationships."
   ]
  },
  {
   "cell_type": "code",
   "execution_count": 5,
   "id": "ffcddd4e",
   "metadata": {},
   "outputs": [
    {
     "data": {
      "image/png": "[encoded data removed]",
      "text/plain": [
       "<Figure size 720x576 with 2 Axes>"
      ]
     },
     "metadata": {
      "needs_background": "light"
     },
     "output_type": "display_data"
    }
   ],
   "source": [
    "correlation_matrix = diabetes_DF.corr()\n",
    "plt.figure(figsize=(10, 8))\n",
    "sns.heatmap(correlation_matrix, annot=True, cmap='coolwarm')\n",
    "plt.show()"
   ]
  },
  {
   "cell_type": "markdown",
   "id": "1dadcd9c",
   "metadata": {},
   "source": [
    "### Method #3: Univariate feature selection"
   ]
  },
  {
   "cell_type": "markdown",
   "id": "d86a1656",
   "metadata": {},
   "source": [
    "Univariate feature selection is a common technique used in machine learning and feature selection to identify the most relevant features for a predictive model by considering their individual relationship with the target variable. It operates on one feature at a time and evaluates each feature independently, disregarding the interaction or combination of features."
   ]
  },
  {
   "cell_type": "code",
   "execution_count": 6,
   "id": "607fd423",
   "metadata": {},
   "outputs": [
    {
     "name": "stdout",
     "output_type": "stream",
     "text": [
      "Selected Features from Univariate Selection:\n",
      "Index(['bmi', 'bp', 's5'], dtype='object')\n"
     ]
    }
   ],
   "source": [
    "from sklearn.feature_selection import SelectKBest, f_regression\n",
    "\n",
    "X = diabetes_DF.iloc[:, 0:10]\n",
    "y = diabetes_DF['progression']\n",
    "\n",
    "selector = SelectKBest(score_func=f_regression, k=3)  # Select top 3 features\n",
    "X_new = selector.fit_transform(X, y)\n",
    "selected_features = X.columns[selector.get_support(indices=True)]\n",
    "\n",
    "# Print selected features from univariate selection\n",
    "print(\"Selected Features from Univariate Selection:\")\n",
    "print(selected_features)"
   ]
  },
  {
   "cell_type": "markdown",
   "id": "98eecd29",
   "metadata": {},
   "source": [
    "### Method #4: Mutual Information Scores"
   ]
  },
  {
   "cell_type": "markdown",
   "id": "79095d00",
   "metadata": {},
   "source": [
    "Mutual Information (MI) scores are a measure of the statistical dependence or mutual information between two variables. In the context of feature selection, mutual information scores are used to assess the relevance or information gain provided by each feature in relation to the target variable."
   ]
  },
  {
   "cell_type": "code",
   "execution_count": 7,
   "id": "8d241ea2",
   "metadata": {},
   "outputs": [
    {
     "name": "stdout",
     "output_type": "stream",
     "text": [
      "Mutual Information Scores:\n",
      "bmi    0.167764\n",
      "s5     0.149597\n",
      "s6     0.113389\n",
      "s4     0.102819\n",
      "s1     0.066794\n",
      "s3     0.065651\n",
      "bp     0.056497\n",
      "sex    0.032114\n",
      "s2     0.011391\n",
      "age    0.000000\n",
      "dtype: float64\n"
     ]
    }
   ],
   "source": [
    "from sklearn.feature_selection import mutual_info_regression\n",
    "mi_scores = mutual_info_regression(X, y)\n",
    "mi_scores = pd.Series(mi_scores, index=X.columns)\n",
    "mi_scores = mi_scores.sort_values(ascending=False)\n",
    "\n",
    "# Print mutual information scores\n",
    "print(\"Mutual Information Scores:\")\n",
    "print(mi_scores)"
   ]
  },
  {
   "cell_type": "markdown",
   "id": "f4a9e194",
   "metadata": {},
   "source": [
    "Now that we have tried various methods for determining the best features, let's take the top three from each one of them and then determine which three appear the most!\n",
    "\n",
    "Method 1: s5, bmi, bp<br>\n",
    "Method 2: bmi, s5, bp<br>\n",
    "Method 3: bmi, s5, bp<br>\n",
    "Method 4: bmi, s5, s6\n",
    "\n",
    "From this, we can concluded that the top 3 features are: **bmi**, **s5** and **bp**"
   ]
  },
  {
   "cell_type": "markdown",
   "id": "50b97af0",
   "metadata": {},
   "source": [
    "## Design 2 new features"
   ]
  },
  {
   "cell_type": "markdown",
   "id": "b63c0d31",
   "metadata": {},
   "source": [
    "Given the fact that the our top three features are bmi, s5 and bp, it would only be appropriate if the two 2 new features were related to these features.\n",
    "\n",
    "For the 2 new features, I want chose **blood pressure category** and **bmi category**. For the blood pressure category, I want to add **'Normal'**, **'Elevated'**, **'High'** and **'Extremely High'** categories. As for the bmi category, I want to add **'Underweight'**, **'Normal Weight'**, **'Overweight'** and **'Obese'** categories."
   ]
  },
  {
   "cell_type": "code",
   "execution_count": 8,
   "id": "0933c49a",
   "metadata": {},
   "outputs": [],
   "source": [
    "# add new column to dataframe named bp_category with corresponding labels and bins\n",
    "diabetes_DF['bp_category'] = pd.cut(diabetes_DF['bp'], bins=[0, 80, 90, 120, 1000],\n",
    "                           labels=['Normal', 'Elevated', 'High', 'Extremely High'])\n",
    "\n",
    "# add new column to dataframe named bmi_category with corresponding labels and bins\n",
    "diabetes_DF['bmi_category'] = pd.cut(diabetes_DF['bmi'], bins=[0, 18.5, 25, 30, 100],\n",
    "                            labels=['Underweight', 'Normal Weight', 'Overweight', 'Obese'])\n",
    "\n",
    "# make a list of columns (personal preference)\n",
    "reorder_columns = ['age', 'sex', 'bp', 'bmi', 's1', 's2', 's3', 's4', 's5', 's6', 'bp_category', 'bmi_category', 'progression']\n",
    "\n",
    "#re-order the dataframe based on the list (personal preference)\n",
    "diabetes_DF = diabetes_DF[reorder_columns]"
   ]
  },
  {
   "cell_type": "code",
   "execution_count": 9,
   "id": "2b55e14d",
   "metadata": {},
   "outputs": [
    {
     "data": {
      "text/html": [
       "<div>\n",
       "<style scoped>\n",
       "    .dataframe tbody tr th:only-of-type {\n",
       "        vertical-align: middle;\n",
       "    }\n",
       "\n",
       "    .dataframe tbody tr th {\n",
       "        vertical-align: top;\n",
       "    }\n",
       "\n",
       "    .dataframe thead th {\n",
       "        text-align: right;\n",
       "    }\n",
       "</style>\n",
       "<table border=\"1\" class=\"dataframe\">\n",
       "  <thead>\n",
       "    <tr style=\"text-align: right;\">\n",
       "      <th></th>\n",
       "      <th>age</th>\n",
       "      <th>sex</th>\n",
       "      <th>bp</th>\n",
       "      <th>bmi</th>\n",
       "      <th>s1</th>\n",
       "      <th>s2</th>\n",
       "      <th>s3</th>\n",
       "      <th>s4</th>\n",
       "      <th>s5</th>\n",
       "      <th>s6</th>\n",
       "      <th>bp_category</th>\n",
       "      <th>bmi_category</th>\n",
       "      <th>progression</th>\n",
       "    </tr>\n",
       "  </thead>\n",
       "  <tbody>\n",
       "    <tr>\n",
       "      <th>0</th>\n",
       "      <td>59</td>\n",
       "      <td>2</td>\n",
       "      <td>101.0</td>\n",
       "      <td>32.1</td>\n",
       "      <td>157</td>\n",
       "      <td>93.2</td>\n",
       "      <td>38.0</td>\n",
       "      <td>4.0</td>\n",
       "      <td>4.8598</td>\n",
       "      <td>87</td>\n",
       "      <td>High</td>\n",
       "      <td>Obese</td>\n",
       "      <td>151</td>\n",
       "    </tr>\n",
       "    <tr>\n",
       "      <th>1</th>\n",
       "      <td>48</td>\n",
       "      <td>1</td>\n",
       "      <td>87.0</td>\n",
       "      <td>21.6</td>\n",
       "      <td>183</td>\n",
       "      <td>103.2</td>\n",
       "      <td>70.0</td>\n",
       "      <td>3.0</td>\n",
       "      <td>3.8918</td>\n",
       "      <td>69</td>\n",
       "      <td>Elevated</td>\n",
       "      <td>Normal Weight</td>\n",
       "      <td>75</td>\n",
       "    </tr>\n",
       "    <tr>\n",
       "      <th>2</th>\n",
       "      <td>72</td>\n",
       "      <td>2</td>\n",
       "      <td>93.0</td>\n",
       "      <td>30.5</td>\n",
       "      <td>156</td>\n",
       "      <td>93.6</td>\n",
       "      <td>41.0</td>\n",
       "      <td>4.0</td>\n",
       "      <td>4.6728</td>\n",
       "      <td>85</td>\n",
       "      <td>High</td>\n",
       "      <td>Obese</td>\n",
       "      <td>141</td>\n",
       "    </tr>\n",
       "    <tr>\n",
       "      <th>3</th>\n",
       "      <td>24</td>\n",
       "      <td>1</td>\n",
       "      <td>84.0</td>\n",
       "      <td>25.3</td>\n",
       "      <td>198</td>\n",
       "      <td>131.4</td>\n",
       "      <td>40.0</td>\n",
       "      <td>5.0</td>\n",
       "      <td>4.8903</td>\n",
       "      <td>89</td>\n",
       "      <td>Elevated</td>\n",
       "      <td>Overweight</td>\n",
       "      <td>206</td>\n",
       "    </tr>\n",
       "    <tr>\n",
       "      <th>4</th>\n",
       "      <td>50</td>\n",
       "      <td>1</td>\n",
       "      <td>101.0</td>\n",
       "      <td>23.0</td>\n",
       "      <td>192</td>\n",
       "      <td>125.4</td>\n",
       "      <td>52.0</td>\n",
       "      <td>4.0</td>\n",
       "      <td>4.2905</td>\n",
       "      <td>80</td>\n",
       "      <td>High</td>\n",
       "      <td>Normal Weight</td>\n",
       "      <td>135</td>\n",
       "    </tr>\n",
       "  </tbody>\n",
       "</table>\n",
       "</div>"
      ],
      "text/plain": [
       "   age  sex     bp   bmi   s1     s2    s3   s4      s5  s6 bp_category  \\\n",
       "0   59    2  101.0  32.1  157   93.2  38.0  4.0  4.8598  87        High   \n",
       "1   48    1   87.0  21.6  183  103.2  70.0  3.0  3.8918  69    Elevated   \n",
       "2   72    2   93.0  30.5  156   93.6  41.0  4.0  4.6728  85        High   \n",
       "3   24    1   84.0  25.3  198  131.4  40.0  5.0  4.8903  89    Elevated   \n",
       "4   50    1  101.0  23.0  192  125.4  52.0  4.0  4.2905  80        High   \n",
       "\n",
       "    bmi_category  progression  \n",
       "0          Obese          151  \n",
       "1  Normal Weight           75  \n",
       "2          Obese          141  \n",
       "3     Overweight          206  \n",
       "4  Normal Weight          135  "
      ]
     },
     "execution_count": 9,
     "metadata": {},
     "output_type": "execute_result"
    }
   ],
   "source": [
    "#display the first five rows to check out the newly updated dataframe\n",
    "diabetes_DF.head(5)"
   ]
  },
  {
   "cell_type": "markdown",
   "id": "c39d9b9e",
   "metadata": {},
   "source": [
    "## Pre-process necessary features"
   ]
  },
  {
   "cell_type": "markdown",
   "id": "21807f08",
   "metadata": {},
   "source": [
    "Let's import the necessary libraries needed for pre-processing of the features as well as for pipelines"
   ]
  },
  {
   "cell_type": "code",
   "execution_count": 10,
   "id": "2fb12189",
   "metadata": {},
   "outputs": [],
   "source": [
    "from sklearn.pipeline import Pipeline\n",
    "from sklearn.preprocessing import StandardScaler\n",
    "from sklearn.impute import SimpleImputer\n",
    "from sklearn.preprocessing import OneHotEncoder\n",
    "from sklearn.feature_selection import SelectPercentile, chi2\n",
    "from sklearn.compose import ColumnTransformer\n",
    "from sklearn.preprocessing import FunctionTransformer"
   ]
  },
  {
   "cell_type": "code",
   "execution_count": 11,
   "id": "69c4d10f",
   "metadata": {},
   "outputs": [
    {
     "data": {
      "text/plain": [
       "age             0\n",
       "sex             0\n",
       "bp              0\n",
       "bmi             0\n",
       "s1              0\n",
       "s2              0\n",
       "s3              0\n",
       "s4              0\n",
       "s5              0\n",
       "s6              0\n",
       "bp_category     0\n",
       "bmi_category    0\n",
       "progression     0\n",
       "dtype: int64"
      ]
     },
     "execution_count": 11,
     "metadata": {},
     "output_type": "execute_result"
    }
   ],
   "source": [
    "#check for whether dataframe contains any missing values\n",
    "diabetes_DF.isnull().sum()"
   ]
  },
  {
   "cell_type": "markdown",
   "id": "577335ad",
   "metadata": {},
   "source": [
    "Lets put all of our numerical features into a separate list and create a new pipeline in which we will add two steps, namely: an **imputer** and a **scaler**. For the imputer, we will use the \"mean\" strategy to account for missing values. For any missing values we will replace them with the median of the other values (yes I know that there are no missing values becaue I checked it earlier, but it is still good practice to use this). As for the scaler, let's just used the stand scaler to normalize the data."
   ]
  },
  {
   "cell_type": "code",
   "execution_count": 12,
   "id": "66b9e741",
   "metadata": {},
   "outputs": [],
   "source": [
    "#create a list with numerical feature names\n",
    "numeric_features = ['s5']\n",
    "\n",
    "#create a pipeline which holds the imputer and scaler\n",
    "numeric_transformer = Pipeline(steps = [\n",
    "    (\"imputer\", SimpleImputer(strategy=\"median\")), (\"scaler\", StandardScaler())\n",
    "])"
   ]
  },
  {
   "cell_type": "markdown",
   "id": "e9661f12",
   "metadata": {},
   "source": [
    "Lets put all of our categorical features into a separate list and create a new pipeline in which we will add two steps, namely: an **encoder** and a **selector**. For the encoder, we will use the one hot encoder to convert our categorical inputs into a vector of numerical values which we need to feed to the models that cannot take in categorical values. If there are unkown values (missing), we just ignore them. As for the selector, we use the chi2 algorithm to take the 50 percentile of the useful features. This might not be needed for a small dataset like this, but it is definitely handy when the dataset is big and needs to be reduced. On top of this, this can help the performance of a model by only taking the relevant information."
   ]
  },
  {
   "cell_type": "code",
   "execution_count": 13,
   "id": "5db32aee",
   "metadata": {},
   "outputs": [],
   "source": [
    "#create a list of categorical feature names\n",
    "categorical_features = ['bp_category', 'bmi_category']\n",
    "\n",
    "#create pipeline which holds the encoder and the selector\n",
    "categorical_transformer = Pipeline(steps=[\n",
    "    (\"encoder\", OneHotEncoder(handle_unknown=\"ignore\")), \n",
    "    (\"selector\", SelectPercentile(chi2, percentile=50))\n",
    "])"
   ]
  },
  {
   "cell_type": "code",
   "execution_count": 14,
   "id": "f1b1bf42",
   "metadata": {},
   "outputs": [],
   "source": [
    "#create a column transformer which takes in the two previous pipelines (for numerical and categorical values) and merges them\n",
    "preprocessor = ColumnTransformer(transformers=[\n",
    "    (\"numerical\", numeric_transformer, numeric_features),\n",
    "    (\"categorical\", categorical_transformer, categorical_features)\n",
    "])"
   ]
  },
  {
   "cell_type": "markdown",
   "id": "97e61414",
   "metadata": {},
   "source": [
    "## Predict how disease progresses 1 year from datapoint"
   ]
  },
  {
   "cell_type": "markdown",
   "id": "22283b67",
   "metadata": {},
   "source": [
    "Now lets get some data and try out a machine learning algorithm suited for our use case."
   ]
  },
  {
   "cell_type": "code",
   "execution_count": 15,
   "id": "8282efba",
   "metadata": {},
   "outputs": [],
   "source": [
    "from sklearn.linear_model import LinearRegression\n",
    "\n",
    "# create a new pipeline which takes the column transformer that was created with the previous two pipelines\n",
    "# and also create an instance of a machine learning regressor, in our case, LinearRegression\n",
    "pipeline = Pipeline(steps=[(\"preprocessor\", preprocessor), (\"regressor\", LinearRegression())])"
   ]
  },
  {
   "cell_type": "code",
   "execution_count": 16,
   "id": "49e23e73",
   "metadata": {},
   "outputs": [],
   "source": [
    "# grab the independent (X) and the dependent (y) variables and store them into a separate dataframe/object\n",
    "X = diabetes_DF[['bp_category', 'bmi_category', 's5']]\n",
    "y = diabetes_DF['progression']"
   ]
  },
  {
   "cell_type": "code",
   "execution_count": 17,
   "id": "5beb99e2",
   "metadata": {},
   "outputs": [],
   "source": [
    "from sklearn.model_selection import train_test_split\n",
    "\n",
    "#split the data into train and testing set\n",
    "X_train, X_test, y_train, y_test = train_test_split(X, y, test_size=0.2, random_state=42)"
   ]
  },
  {
   "cell_type": "markdown",
   "id": "22d38004",
   "metadata": {},
   "source": [
    "To measure the time of the execution of the pipeline, feel free to uncomment the cell below and run the code."
   ]
  },
  {
   "cell_type": "code",
   "execution_count": null,
   "id": "75603aca",
   "metadata": {},
   "outputs": [],
   "source": [
    "# import time\n",
    "\n",
    "# start_time = time.time()\n",
    "\n",
    "# pipeline.fit(X_train, y_train)\n",
    "\n",
    "# end_time = time.time()\n",
    "\n",
    "# total_time = end_time - start_time\n",
    "\n",
    "# print(\"Total time: {:.2f} seconds\".format(total_time))"
   ]
  },
  {
   "cell_type": "code",
   "execution_count": 18,
   "id": "6ed45fc4",
   "metadata": {},
   "outputs": [
    {
     "data": {
      "text/html": [
       "<style>#sk-container-id-1 {color: black;background-color: white;}#sk-container-id-1 pre{padding: 0;}#sk-container-id-1 div.sk-toggleable {background-color: white;}#sk-container-id-1 label.sk-toggleable__label {cursor: pointer;display: block;width: 100%;margin-bottom: 0;padding: 0.3em;box-sizing: border-box;text-align: center;}#sk-container-id-1 label.sk-toggleable__label-arrow:before {content: \"▸\";float: left;margin-right: 0.25em;color: #696969;}#sk-container-id-1 label.sk-toggleable__label-arrow:hover:before {color: black;}#sk-container-id-1 div.sk-estimator:hover label.sk-toggleable__label-arrow:before {color: black;}#sk-container-id-1 div.sk-toggleable__content {max-height: 0;max-width: 0;overflow: hidden;text-align: left;background-color: #f0f8ff;}#sk-container-id-1 div.sk-toggleable__content pre {margin: 0.2em;color: black;border-radius: 0.25em;background-color: #f0f8ff;}#sk-container-id-1 input.sk-toggleable__control:checked~div.sk-toggleable__content {max-height: 200px;max-width: 100%;overflow: auto;}#sk-container-id-1 input.sk-toggleable__control:checked~label.sk-toggleable__label-arrow:before {content: \"▾\";}#sk-container-id-1 div.sk-estimator input.sk-toggleable__control:checked~label.sk-toggleable__label {background-color: #d4ebff;}#sk-container-id-1 div.sk-label input.sk-toggleable__control:checked~label.sk-toggleable__label {background-color: #d4ebff;}#sk-container-id-1 input.sk-hidden--visually {border: 0;clip: rect(1px 1px 1px 1px);clip: rect(1px, 1px, 1px, 1px);height: 1px;margin: -1px;overflow: hidden;padding: 0;position: absolute;width: 1px;}#sk-container-id-1 div.sk-estimator {font-family: monospace;background-color: #f0f8ff;border: 1px dotted black;border-radius: 0.25em;box-sizing: border-box;margin-bottom: 0.5em;}#sk-container-id-1 div.sk-estimator:hover {background-color: #d4ebff;}#sk-container-id-1 div.sk-parallel-item::after {content: \"\";width: 100%;border-bottom: 1px solid gray;flex-grow: 1;}#sk-container-id-1 div.sk-label:hover label.sk-toggleable__label {background-color: #d4ebff;}#sk-container-id-1 div.sk-serial::before {content: \"\";position: absolute;border-left: 1px solid gray;box-sizing: border-box;top: 0;bottom: 0;left: 50%;z-index: 0;}#sk-container-id-1 div.sk-serial {display: flex;flex-direction: column;align-items: center;background-color: white;padding-right: 0.2em;padding-left: 0.2em;position: relative;}#sk-container-id-1 div.sk-item {position: relative;z-index: 1;}#sk-container-id-1 div.sk-parallel {display: flex;align-items: stretch;justify-content: center;background-color: white;position: relative;}#sk-container-id-1 div.sk-item::before, #sk-container-id-1 div.sk-parallel-item::before {content: \"\";position: absolute;border-left: 1px solid gray;box-sizing: border-box;top: 0;bottom: 0;left: 50%;z-index: -1;}#sk-container-id-1 div.sk-parallel-item {display: flex;flex-direction: column;z-index: 1;position: relative;background-color: white;}#sk-container-id-1 div.sk-parallel-item:first-child::after {align-self: flex-end;width: 50%;}#sk-container-id-1 div.sk-parallel-item:last-child::after {align-self: flex-start;width: 50%;}#sk-container-id-1 div.sk-parallel-item:only-child::after {width: 0;}#sk-container-id-1 div.sk-dashed-wrapped {border: 1px dashed gray;margin: 0 0.4em 0.5em 0.4em;box-sizing: border-box;padding-bottom: 0.4em;background-color: white;}#sk-container-id-1 div.sk-label label {font-family: monospace;font-weight: bold;display: inline-block;line-height: 1.2em;}#sk-container-id-1 div.sk-label-container {text-align: center;}#sk-container-id-1 div.sk-container {/* jupyter's `normalize.less` sets `[hidden] { display: none; }` but bootstrap.min.css set `[hidden] { display: none !important; }` so we also need the `!important` here to be able to override the default hidden behavior on the sphinx rendered scikit-learn.org. See: https://github.com/scikit-learn/scikit-learn/issues/21755 */display: inline-block !important;position: relative;}#sk-container-id-1 div.sk-text-repr-fallback {display: none;}</style><div id=\"sk-container-id-1\" class=\"sk-top-container\"><div class=\"sk-text-repr-fallback\"><pre>Pipeline(steps=[(&#x27;preprocessor&#x27;,\n",
       "                 ColumnTransformer(transformers=[(&#x27;numerical&#x27;,\n",
       "                                                  Pipeline(steps=[(&#x27;imputer&#x27;,\n",
       "                                                                   SimpleImputer(strategy=&#x27;median&#x27;)),\n",
       "                                                                  (&#x27;scaler&#x27;,\n",
       "                                                                   StandardScaler())]),\n",
       "                                                  [&#x27;s5&#x27;]),\n",
       "                                                 (&#x27;categorical&#x27;,\n",
       "                                                  Pipeline(steps=[(&#x27;encoder&#x27;,\n",
       "                                                                   OneHotEncoder(handle_unknown=&#x27;ignore&#x27;)),\n",
       "                                                                  (&#x27;selector&#x27;,\n",
       "                                                                   SelectPercentile(percentile=50,\n",
       "                                                                                    score_func=&lt;function chi2 at 0x000001F2977ED3F0&gt;))]),\n",
       "                                                  [&#x27;bp_category&#x27;,\n",
       "                                                   &#x27;bmi_category&#x27;])])),\n",
       "                (&#x27;regressor&#x27;, LinearRegression())])</pre><b>In a Jupyter environment, please rerun this cell to show the HTML representation or trust the notebook. <br />On GitHub, the HTML representation is unable to render, please try loading this page with nbviewer.org.</b></div><div class=\"sk-container\" hidden><div class=\"sk-item sk-dashed-wrapped\"><div class=\"sk-label-container\"><div class=\"sk-label sk-toggleable\"><input class=\"sk-toggleable__control sk-hidden--visually\" id=\"sk-estimator-id-1\" type=\"checkbox\" ><label for=\"sk-estimator-id-1\" class=\"sk-toggleable__label sk-toggleable__label-arrow\">Pipeline</label><div class=\"sk-toggleable__content\"><pre>Pipeline(steps=[(&#x27;preprocessor&#x27;,\n",
       "                 ColumnTransformer(transformers=[(&#x27;numerical&#x27;,\n",
       "                                                  Pipeline(steps=[(&#x27;imputer&#x27;,\n",
       "                                                                   SimpleImputer(strategy=&#x27;median&#x27;)),\n",
       "                                                                  (&#x27;scaler&#x27;,\n",
       "                                                                   StandardScaler())]),\n",
       "                                                  [&#x27;s5&#x27;]),\n",
       "                                                 (&#x27;categorical&#x27;,\n",
       "                                                  Pipeline(steps=[(&#x27;encoder&#x27;,\n",
       "                                                                   OneHotEncoder(handle_unknown=&#x27;ignore&#x27;)),\n",
       "                                                                  (&#x27;selector&#x27;,\n",
       "                                                                   SelectPercentile(percentile=50,\n",
       "                                                                                    score_func=&lt;function chi2 at 0x000001F2977ED3F0&gt;))]),\n",
       "                                                  [&#x27;bp_category&#x27;,\n",
       "                                                   &#x27;bmi_category&#x27;])])),\n",
       "                (&#x27;regressor&#x27;, LinearRegression())])</pre></div></div></div><div class=\"sk-serial\"><div class=\"sk-item sk-dashed-wrapped\"><div class=\"sk-label-container\"><div class=\"sk-label sk-toggleable\"><input class=\"sk-toggleable__control sk-hidden--visually\" id=\"sk-estimator-id-2\" type=\"checkbox\" ><label for=\"sk-estimator-id-2\" class=\"sk-toggleable__label sk-toggleable__label-arrow\">preprocessor: ColumnTransformer</label><div class=\"sk-toggleable__content\"><pre>ColumnTransformer(transformers=[(&#x27;numerical&#x27;,\n",
       "                                 Pipeline(steps=[(&#x27;imputer&#x27;,\n",
       "                                                  SimpleImputer(strategy=&#x27;median&#x27;)),\n",
       "                                                 (&#x27;scaler&#x27;, StandardScaler())]),\n",
       "                                 [&#x27;s5&#x27;]),\n",
       "                                (&#x27;categorical&#x27;,\n",
       "                                 Pipeline(steps=[(&#x27;encoder&#x27;,\n",
       "                                                  OneHotEncoder(handle_unknown=&#x27;ignore&#x27;)),\n",
       "                                                 (&#x27;selector&#x27;,\n",
       "                                                  SelectPercentile(percentile=50,\n",
       "                                                                   score_func=&lt;function chi2 at 0x000001F2977ED3F0&gt;))]),\n",
       "                                 [&#x27;bp_category&#x27;, &#x27;bmi_category&#x27;])])</pre></div></div></div><div class=\"sk-parallel\"><div class=\"sk-parallel-item\"><div class=\"sk-item\"><div class=\"sk-label-container\"><div class=\"sk-label sk-toggleable\"><input class=\"sk-toggleable__control sk-hidden--visually\" id=\"sk-estimator-id-3\" type=\"checkbox\" ><label for=\"sk-estimator-id-3\" class=\"sk-toggleable__label sk-toggleable__label-arrow\">numerical</label><div class=\"sk-toggleable__content\"><pre>[&#x27;s5&#x27;]</pre></div></div></div><div class=\"sk-serial\"><div class=\"sk-item\"><div class=\"sk-serial\"><div class=\"sk-item\"><div class=\"sk-estimator sk-toggleable\"><input class=\"sk-toggleable__control sk-hidden--visually\" id=\"sk-estimator-id-4\" type=\"checkbox\" ><label for=\"sk-estimator-id-4\" class=\"sk-toggleable__label sk-toggleable__label-arrow\">SimpleImputer</label><div class=\"sk-toggleable__content\"><pre>SimpleImputer(strategy=&#x27;median&#x27;)</pre></div></div></div><div class=\"sk-item\"><div class=\"sk-estimator sk-toggleable\"><input class=\"sk-toggleable__control sk-hidden--visually\" id=\"sk-estimator-id-5\" type=\"checkbox\" ><label for=\"sk-estimator-id-5\" class=\"sk-toggleable__label sk-toggleable__label-arrow\">StandardScaler</label><div class=\"sk-toggleable__content\"><pre>StandardScaler()</pre></div></div></div></div></div></div></div></div><div class=\"sk-parallel-item\"><div class=\"sk-item\"><div class=\"sk-label-container\"><div class=\"sk-label sk-toggleable\"><input class=\"sk-toggleable__control sk-hidden--visually\" id=\"sk-estimator-id-6\" type=\"checkbox\" ><label for=\"sk-estimator-id-6\" class=\"sk-toggleable__label sk-toggleable__label-arrow\">categorical</label><div class=\"sk-toggleable__content\"><pre>[&#x27;bp_category&#x27;, &#x27;bmi_category&#x27;]</pre></div></div></div><div class=\"sk-serial\"><div class=\"sk-item\"><div class=\"sk-serial\"><div class=\"sk-item\"><div class=\"sk-estimator sk-toggleable\"><input class=\"sk-toggleable__control sk-hidden--visually\" id=\"sk-estimator-id-7\" type=\"checkbox\" ><label for=\"sk-estimator-id-7\" class=\"sk-toggleable__label sk-toggleable__label-arrow\">OneHotEncoder</label><div class=\"sk-toggleable__content\"><pre>OneHotEncoder(handle_unknown=&#x27;ignore&#x27;)</pre></div></div></div><div class=\"sk-item\"><div class=\"sk-estimator sk-toggleable\"><input class=\"sk-toggleable__control sk-hidden--visually\" id=\"sk-estimator-id-8\" type=\"checkbox\" ><label for=\"sk-estimator-id-8\" class=\"sk-toggleable__label sk-toggleable__label-arrow\">SelectPercentile</label><div class=\"sk-toggleable__content\"><pre>SelectPercentile(percentile=50,\n",
       "                 score_func=&lt;function chi2 at 0x000001F2977ED3F0&gt;)</pre></div></div></div></div></div></div></div></div></div></div><div class=\"sk-item\"><div class=\"sk-estimator sk-toggleable\"><input class=\"sk-toggleable__control sk-hidden--visually\" id=\"sk-estimator-id-9\" type=\"checkbox\" ><label for=\"sk-estimator-id-9\" class=\"sk-toggleable__label sk-toggleable__label-arrow\">LinearRegression</label><div class=\"sk-toggleable__content\"><pre>LinearRegression()</pre></div></div></div></div></div></div></div>"
      ],
      "text/plain": [
       "Pipeline(steps=[('preprocessor',\n",
       "                 ColumnTransformer(transformers=[('numerical',\n",
       "                                                  Pipeline(steps=[('imputer',\n",
       "                                                                   SimpleImputer(strategy='median')),\n",
       "                                                                  ('scaler',\n",
       "                                                                   StandardScaler())]),\n",
       "                                                  ['s5']),\n",
       "                                                 ('categorical',\n",
       "                                                  Pipeline(steps=[('encoder',\n",
       "                                                                   OneHotEncoder(handle_unknown='ignore')),\n",
       "                                                                  ('selector',\n",
       "                                                                   SelectPercentile(percentile=50,\n",
       "                                                                                    score_func=<function chi2 at 0x000001F2977ED3F0>))]),\n",
       "                                                  ['bp_category',\n",
       "                                                   'bmi_category'])])),\n",
       "                ('regressor', LinearRegression())])"
      ]
     },
     "execution_count": 18,
     "metadata": {},
     "output_type": "execute_result"
    }
   ],
   "source": [
    "#fit the training data to our model through the pipeline\n",
    "pipeline.fit(X_train, y_train)"
   ]
  },
  {
   "cell_type": "code",
   "execution_count": 19,
   "id": "b66f9eba",
   "metadata": {},
   "outputs": [
    {
     "data": {
      "text/html": [
       "<div>\n",
       "<style scoped>\n",
       "    .dataframe tbody tr th:only-of-type {\n",
       "        vertical-align: middle;\n",
       "    }\n",
       "\n",
       "    .dataframe tbody tr th {\n",
       "        vertical-align: top;\n",
       "    }\n",
       "\n",
       "    .dataframe thead th {\n",
       "        text-align: right;\n",
       "    }\n",
       "</style>\n",
       "<table border=\"1\" class=\"dataframe\">\n",
       "  <thead>\n",
       "    <tr style=\"text-align: right;\">\n",
       "      <th></th>\n",
       "      <th>bp_category</th>\n",
       "      <th>bmi_category</th>\n",
       "      <th>s5</th>\n",
       "    </tr>\n",
       "  </thead>\n",
       "  <tbody>\n",
       "    <tr>\n",
       "      <th>287</th>\n",
       "      <td>Elevated</td>\n",
       "      <td>Overweight</td>\n",
       "      <td>4.9972</td>\n",
       "    </tr>\n",
       "  </tbody>\n",
       "</table>\n",
       "</div>"
      ],
      "text/plain": [
       "    bp_category bmi_category      s5\n",
       "287    Elevated   Overweight  4.9972"
      ]
     },
     "execution_count": 19,
     "metadata": {},
     "output_type": "execute_result"
    }
   ],
   "source": [
    "#use a random data point to test the progression of the disease (i used the first row in the testing data)\n",
    "data_point = X_test.iloc[0:1]\n",
    "data_point"
   ]
  },
  {
   "cell_type": "code",
   "execution_count": 20,
   "id": "edcc748f",
   "metadata": {},
   "outputs": [
    {
     "name": "stdout",
     "output_type": "stream",
     "text": [
      "The predicted progression of the disease after 1 year of the datapoint is: [179.3279604]\n"
     ]
    }
   ],
   "source": [
    "#display the prediction of the progression from the datapoint\n",
    "y_pred = pipeline.predict(data_point)\n",
    "print(f'The predicted progression of the disease after 1 year of the datapoint is: {y_pred}')"
   ]
  },
  {
   "cell_type": "markdown",
   "id": "c87a606b",
   "metadata": {},
   "source": [
    "## Report score/accuracy in at least 2 different formats"
   ]
  },
  {
   "cell_type": "markdown",
   "id": "0486207a",
   "metadata": {},
   "source": [
    "Now, let's assess the score/accuracy of the model using various formats which are available for the assessment of regression algorithms"
   ]
  },
  {
   "cell_type": "code",
   "execution_count": 21,
   "id": "58f10358",
   "metadata": {},
   "outputs": [],
   "source": [
    "#get the predictions again, but this time with the entirety of the testing set\n",
    "y_pred = pipeline.predict(X_test)"
   ]
  },
  {
   "cell_type": "markdown",
   "id": "41f98563",
   "metadata": {},
   "source": [
    "### Mean Sqaured Error (MSE)"
   ]
  },
  {
   "cell_type": "markdown",
   "id": "df15c698",
   "metadata": {},
   "source": [
    "Mean Squared Error is a common metric used to evaluate the performance of a regression model. MSE measures the average squared difference between the predicted values and the actual values."
   ]
  },
  {
   "cell_type": "code",
   "execution_count": 23,
   "id": "1c709ff5",
   "metadata": {},
   "outputs": [
    {
     "name": "stdout",
     "output_type": "stream",
     "text": [
      "Mean Squared Error:  2880.2109013271397\n"
     ]
    }
   ],
   "source": [
    "from sklearn.metrics import mean_squared_error\n",
    "\n",
    "mse = mean_squared_error(y_test, y_pred)\n",
    "print(\"Mean Squared Error: \", mse)"
   ]
  },
  {
   "cell_type": "markdown",
   "id": "ee848c45",
   "metadata": {},
   "source": [
    "### Mean Absolute Error (MAE)"
   ]
  },
  {
   "cell_type": "markdown",
   "id": "4c2af916",
   "metadata": {},
   "source": [
    "Mean Absolute Error is a common used metric for evaluating the performance of a regression model. MAE measures the average absolute difference between the predicted values and the actual values."
   ]
  },
  {
   "cell_type": "code",
   "execution_count": 24,
   "id": "098aecba",
   "metadata": {},
   "outputs": [
    {
     "name": "stdout",
     "output_type": "stream",
     "text": [
      "Mean Absolute Error: 43.6126698185232\n"
     ]
    }
   ],
   "source": [
    "from sklearn.metrics import mean_absolute_error\n",
    "mae = mean_absolute_error(y_test, y_pred)\n",
    "print(\"Mean Absolute Error:\", mae)"
   ]
  },
  {
   "cell_type": "markdown",
   "id": "eb74f4aa",
   "metadata": {},
   "source": [
    "### Pearson's correlation coefficient"
   ]
  },
  {
   "cell_type": "markdown",
   "id": "139c8d39",
   "metadata": {},
   "source": [
    "Pearson's correlation coefficient, often denoted as \"r,\" is a statistical measure that quantifies the strength and direction of the linear relationship between two continuous variables. It assesses how closely the data points of two variables align along a straight line."
   ]
  },
  {
   "cell_type": "code",
   "execution_count": 25,
   "id": "27c43adf",
   "metadata": {},
   "outputs": [
    {
     "name": "stdout",
     "output_type": "stream",
     "text": [
      "Pearson's correlation coefficient: 0.6773964735111175\n"
     ]
    }
   ],
   "source": [
    "from scipy.stats import pearsonr\n",
    "\n",
    "corr, _ = pearsonr(y_test, y_pred)\n",
    "print(\"Pearson's correlation coefficient:\", corr)"
   ]
  },
  {
   "cell_type": "markdown",
   "id": "4c3eef42",
   "metadata": {},
   "source": [
    "### R-Squared (R2 / determination coeffient) / Variance score"
   ]
  },
  {
   "cell_type": "markdown",
   "id": "ea08a4ae",
   "metadata": {},
   "source": [
    "R-Squared, also known as the determination coefficient, is a statistical measure that quantifies the proportion of the variance in the dependent variable (target variable) that can be explained by the independent variables (predictor variables) in a regression model."
   ]
  },
  {
   "cell_type": "code",
   "execution_count": 26,
   "id": "27dd8e7f",
   "metadata": {},
   "outputs": [
    {
     "name": "stdout",
     "output_type": "stream",
     "text": [
      "The R-Squared score is: 0.45637440412431496\n"
     ]
    }
   ],
   "source": [
    "score = pipeline.score(X_test, y_test)\n",
    "print(f'The R-Squared score is: {score}')"
   ]
  }
 ],
 "metadata": {
  "kernelspec": {
   "display_name": "Python 3 (ipykernel)",
   "language": "python",
   "name": "python3"
  },
  "language_info": {
   "codemirror_mode": {
    "name": "ipython",
    "version": 3
   },
   "file_extension": ".py",
   "mimetype": "text/x-python",
   "name": "python",
   "nbconvert_exporter": "python",
   "pygments_lexer": "ipython3",
   "version": "3.10.9"
  }
 },
 "nbformat": 4,
 "nbformat_minor": 5
}
