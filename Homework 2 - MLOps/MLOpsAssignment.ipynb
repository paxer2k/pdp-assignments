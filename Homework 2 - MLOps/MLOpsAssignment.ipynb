{
 "cells": [
  {
   "cell_type": "markdown",
   "id": "7d629105",
   "metadata": {},
   "source": [
    "# MLOps homework assignment 2 - Diabetes"
   ]
  },
  {
   "cell_type": "markdown",
   "id": "3a52c736",
   "metadata": {},
   "source": [
    "First, lets start out by installing and/or importing the necessary libraries."
   ]
  },
  {
   "cell_type": "code",
   "execution_count": 322,
   "id": "1bd53f47",
   "metadata": {},
   "outputs": [
    {
     "name": "stdout",
     "output_type": "stream",
     "text": [
      "NumPy already installed, only imported\n",
      "PyPlot already installed, only imported\n",
      "pandas already installed, only imported\n",
      "sklearn already installed, only imported\n",
      "seaborn already installed, only imported\n"
     ]
    }
   ],
   "source": [
    "try:\n",
    "    import numpy as np\n",
    "    print('NumPy already installed, only imported')\n",
    "except:\n",
    "    !pip install numpy\n",
    "    import numpy as np\n",
    "    print('NumPy was not installed, installed and imported')\n",
    "      \n",
    "# pyplot as plt\n",
    "try:\n",
    "    import matplotlib.pyplot as plt\n",
    "    print('PyPlot already installed, only imported')\n",
    "except:\n",
    "    !pip install matplotlib\n",
    "    import matplotlib.pyplot as plt\n",
    "    print('PyPlot was not installed, installed and imported')\n",
    "\n",
    "# pandas as pd   \n",
    "try:\n",
    "    import pandas as pd\n",
    "    print('pandas already installed, only imported')\n",
    "except:\n",
    "    !pip install pandas\n",
    "    import pandas as pd\n",
    "    print('pandas was not installed, installed and imported')\n",
    "\n",
    "try:\n",
    "    import sklearn\n",
    "    print('sklearn already installed, only imported')\n",
    "except:\n",
    "    !pip install scikit-learn\n",
    "    import sklearn\n",
    "    print('sklearn was not installed, installed and imported')\n",
    "\n",
    "try:\n",
    "    import seaborn as sns\n",
    "    print('seaborn already installed, only imported')\n",
    "except:\n",
    "    !pip install seaborn\n",
    "    import seaborn as sns\n",
    "    print('seaborn was not installed, installed and imported')"
   ]
  },
  {
   "cell_type": "markdown",
   "id": "cc441dc2",
   "metadata": {},
   "source": [
    "Now, let's load the diabetes dataset and check it out"
   ]
  },
  {
   "cell_type": "code",
   "execution_count": 75,
   "id": "317a42d0",
   "metadata": {},
   "outputs": [
    {
     "data": {
      "text/html": [
       "<div>\n",
       "<style scoped>\n",
       "    .dataframe tbody tr th:only-of-type {\n",
       "        vertical-align: middle;\n",
       "    }\n",
       "\n",
       "    .dataframe tbody tr th {\n",
       "        vertical-align: top;\n",
       "    }\n",
       "\n",
       "    .dataframe thead th {\n",
       "        text-align: right;\n",
       "    }\n",
       "</style>\n",
       "<table border=\"1\" class=\"dataframe\">\n",
       "  <thead>\n",
       "    <tr style=\"text-align: right;\">\n",
       "      <th></th>\n",
       "      <th>age</th>\n",
       "      <th>sex</th>\n",
       "      <th>bmi</th>\n",
       "      <th>bp</th>\n",
       "      <th>s1</th>\n",
       "      <th>s2</th>\n",
       "      <th>s3</th>\n",
       "      <th>s4</th>\n",
       "      <th>s5</th>\n",
       "      <th>s6</th>\n",
       "      <th>progression</th>\n",
       "    </tr>\n",
       "  </thead>\n",
       "  <tbody>\n",
       "    <tr>\n",
       "      <th>0</th>\n",
       "      <td>59</td>\n",
       "      <td>2</td>\n",
       "      <td>32.1</td>\n",
       "      <td>101.0</td>\n",
       "      <td>157</td>\n",
       "      <td>93.2</td>\n",
       "      <td>38.0</td>\n",
       "      <td>4.0</td>\n",
       "      <td>4.8598</td>\n",
       "      <td>87</td>\n",
       "      <td>151</td>\n",
       "    </tr>\n",
       "    <tr>\n",
       "      <th>1</th>\n",
       "      <td>48</td>\n",
       "      <td>1</td>\n",
       "      <td>21.6</td>\n",
       "      <td>87.0</td>\n",
       "      <td>183</td>\n",
       "      <td>103.2</td>\n",
       "      <td>70.0</td>\n",
       "      <td>3.0</td>\n",
       "      <td>3.8918</td>\n",
       "      <td>69</td>\n",
       "      <td>75</td>\n",
       "    </tr>\n",
       "    <tr>\n",
       "      <th>2</th>\n",
       "      <td>72</td>\n",
       "      <td>2</td>\n",
       "      <td>30.5</td>\n",
       "      <td>93.0</td>\n",
       "      <td>156</td>\n",
       "      <td>93.6</td>\n",
       "      <td>41.0</td>\n",
       "      <td>4.0</td>\n",
       "      <td>4.6728</td>\n",
       "      <td>85</td>\n",
       "      <td>141</td>\n",
       "    </tr>\n",
       "    <tr>\n",
       "      <th>3</th>\n",
       "      <td>24</td>\n",
       "      <td>1</td>\n",
       "      <td>25.3</td>\n",
       "      <td>84.0</td>\n",
       "      <td>198</td>\n",
       "      <td>131.4</td>\n",
       "      <td>40.0</td>\n",
       "      <td>5.0</td>\n",
       "      <td>4.8903</td>\n",
       "      <td>89</td>\n",
       "      <td>206</td>\n",
       "    </tr>\n",
       "    <tr>\n",
       "      <th>4</th>\n",
       "      <td>50</td>\n",
       "      <td>1</td>\n",
       "      <td>23.0</td>\n",
       "      <td>101.0</td>\n",
       "      <td>192</td>\n",
       "      <td>125.4</td>\n",
       "      <td>52.0</td>\n",
       "      <td>4.0</td>\n",
       "      <td>4.2905</td>\n",
       "      <td>80</td>\n",
       "      <td>135</td>\n",
       "    </tr>\n",
       "  </tbody>\n",
       "</table>\n",
       "</div>"
      ],
      "text/plain": [
       "   age  sex   bmi     bp   s1     s2    s3   s4      s5  s6  progression\n",
       "0   59    2  32.1  101.0  157   93.2  38.0  4.0  4.8598  87          151\n",
       "1   48    1  21.6   87.0  183  103.2  70.0  3.0  3.8918  69           75\n",
       "2   72    2  30.5   93.0  156   93.6  41.0  4.0  4.6728  85          141\n",
       "3   24    1  25.3   84.0  198  131.4  40.0  5.0  4.8903  89          206\n",
       "4   50    1  23.0  101.0  192  125.4  52.0  4.0  4.2905  80          135"
      ]
     },
     "execution_count": 75,
     "metadata": {},
     "output_type": "execute_result"
    }
   ],
   "source": [
    "diabetes_DF = pd.read_csv('diabetes.tsv', sep='\\t').rename(columns={\n",
    "    'AGE': 'age', 'SEX': 'sex', 'BMI': 'bmi', \n",
    "    'BP': 'bp', 'S1': 's1', 'S2': 's2', 'S3': 's3', \n",
    "    'S4': 's4', 'S5': 's5', 'S6': 's6', 'Y': 'progression'})\n",
    "\n",
    "diabetes_DF.head(5)"
   ]
  },
  {
   "cell_type": "code",
   "execution_count": 3,
   "id": "2518d82b",
   "metadata": {},
   "outputs": [
    {
     "name": "stdout",
     "output_type": "stream",
     "text": [
      ".. _diabetes_dataset:\n",
      "\n",
      "Diabetes dataset\n",
      "----------------\n",
      "\n",
      "Ten baseline variables, age, sex, body mass index, average blood\n",
      "pressure, and six blood serum measurements were obtained for each of n =\n",
      "442 diabetes patients, as well as the response of interest, a\n",
      "quantitative measure of disease progression one year after baseline.\n",
      "\n",
      "**Data Set Characteristics:**\n",
      "\n",
      "  :Number of Instances: 442\n",
      "\n",
      "  :Number of Attributes: First 10 columns are numeric predictive values\n",
      "\n",
      "  :Target: Column 11 is a quantitative measure of disease progression one year after baseline\n",
      "\n",
      "  :Attribute Information:\n",
      "      - age     age in years\n",
      "      - sex\n",
      "      - bmi     body mass index\n",
      "      - bp      average blood pressure\n",
      "      - s1      tc, total serum cholesterol\n",
      "      - s2      ldl, low-density lipoproteins\n",
      "      - s3      hdl, high-density lipoproteins\n",
      "      - s4      tch, total cholesterol / HDL\n",
      "      - s5      ltg, possibly log of serum triglycerides level\n",
      "      - s6      glu, blood sugar level\n",
      "\n",
      "Note: Each of these 10 feature variables have been mean centered and scaled by the standard deviation times the square root of `n_samples` (i.e. the sum of squares of each column totals 1).\n",
      "\n",
      "Source URL:\n",
      "https://www4.stat.ncsu.edu/~boos/var.select/diabetes.html\n",
      "\n",
      "For more information see:\n",
      "Bradley Efron, Trevor Hastie, Iain Johnstone and Robert Tibshirani (2004) \"Least Angle Regression,\" Annals of Statistics (with discussion), 407-499.\n",
      "(https://web.stanford.edu/~hastie/Papers/LARS/LeastAngle_2002.pdf)\n",
      "\n"
     ]
    }
   ],
   "source": [
    "from sklearn.datasets import load_diabetes\n",
    "\n",
    "#load the diabetes dataset\n",
    "diabetes_data = load_diabetes()\n",
    "\n",
    "diabetes_desc = diabetes_data.DESCR\n",
    "print(diabetes_desc)"
   ]
  },
  {
   "cell_type": "markdown",
   "id": "45cb695f",
   "metadata": {},
   "source": [
    "## Find top 3 predictive features according to 3 different methods of measuring predictiveness"
   ]
  },
  {
   "cell_type": "markdown",
   "id": "e6acf7a9",
   "metadata": {},
   "source": [
    "### Method #1: Feature importance"
   ]
  },
  {
   "cell_type": "code",
   "execution_count": 65,
   "id": "9860f7cb",
   "metadata": {},
   "outputs": [
    {
     "data": {
      "image/png": "[encoded data removed]",
      "text/plain": [
       "<Figure size 720x432 with 1 Axes>"
      ]
     },
     "metadata": {
      "needs_background": "light"
     },
     "output_type": "display_data"
    }
   ],
   "source": [
    "import matplotlib.pyplot as plt\n",
    "import numpy as np\n",
    "from sklearn.linear_model import RidgeCV\n",
    "from sklearn.ensemble import RandomForestRegressor\n",
    "\n",
    "X, y = diabetes_DF.iloc[:, 0:10], diabetes_DF['progression']\n",
    "\n",
    "model = RandomForestRegressor()\n",
    "model.fit(X, y)\n",
    "importances = model.feature_importances_\n",
    "\n",
    "# Sort the importances in descending order\n",
    "sorted_indices = np.argsort(importances)[::-1]\n",
    "sorted_importances = importances[sorted_indices]\n",
    "sorted_feature_names = X.columns[sorted_indices]\n",
    "\n",
    "# Plot the feature importances\n",
    "plt.figure(figsize=(10, 6))\n",
    "plt.bar(range(len(sorted_importances)), sorted_importances, tick_label=sorted_feature_names)\n",
    "plt.xticks(rotation=90)\n",
    "plt.xlabel('Features')\n",
    "plt.ylabel('Importance')\n",
    "plt.title('Feature Importance')\n",
    "plt.tight_layout()\n",
    "plt.show()"
   ]
  },
  {
   "cell_type": "markdown",
   "id": "38325440",
   "metadata": {},
   "source": [
    "### Method #2: Correlation matrix"
   ]
  },
  {
   "cell_type": "code",
   "execution_count": null,
   "id": "a3911fd4",
   "metadata": {},
   "outputs": [],
   "source": [
    "correlation_matrix = diabetes_DF.corr()\n",
    "\n",
    "sns.heatmap(correlation_matrix, annot=True, cmap='coolwarm')"
   ]
  },
  {
   "cell_type": "markdown",
   "id": "2859e5f7",
   "metadata": {},
   "source": [
    "### Method #3: Univariate feature selection"
   ]
  },
  {
   "cell_type": "code",
   "execution_count": null,
   "id": "86b91b0a",
   "metadata": {},
   "outputs": [],
   "source": [
    "from sklearn.feature_selection import SelectKBest, f_regression\n",
    "\n",
    "X = diabetes_DF.iloc[:, 0:10]\n",
    "y = diabetes_DF['progression']\n",
    "\n",
    "selector = SelectKBest(score_func=f_regression, k=5)  # Select top 5 features\n",
    "X_new = selector.fit_transform(X, y)\n",
    "selected_features = X.columns[selector.get_support(indices=True)]\n",
    "\n",
    "# Print selected features from univariate selection\n",
    "print(\"Selected Features from Univariate Selection:\")\n",
    "print(selected_features)"
   ]
  },
  {
   "cell_type": "markdown",
   "id": "5e61954f",
   "metadata": {},
   "source": [
    "### Method #4: Mutual Information Scores"
   ]
  },
  {
   "cell_type": "code",
   "execution_count": null,
   "id": "dccb0845",
   "metadata": {},
   "outputs": [],
   "source": [
    "from sklearn.feature_selection import mutual_info_regression\n",
    "mi_scores = mutual_info_regression(X, y)\n",
    "mi_scores = pd.Series(mi_scores, index=X.columns)\n",
    "mi_scores = mi_scores.sort_values(ascending=False)\n",
    "\n",
    "# Print mutual information scores\n",
    "print(\"Mutual Information Scores:\")\n",
    "print(mi_scores)"
   ]
  },
  {
   "cell_type": "markdown",
   "id": "827ee685",
   "metadata": {},
   "source": [
    "Now that we have tried various methods for determining the best features, let's take the top three from each one of them and then determine which three appear the most!\n",
    "\n",
    "Method 1: s5, bmi, bp<br>\n",
    "Method 2: bmi, s5, bp<br>\n",
    "Method 3: bmi, s5, bp<br>\n",
    "Method 4: bmi, s5, s6\n",
    "\n",
    "From this, we can concluded that the top 3 features are: **bmi**, **s5** and **bp**"
   ]
  },
  {
   "cell_type": "markdown",
   "id": "0f38e706",
   "metadata": {},
   "source": [
    "## Design 2 new features"
   ]
  },
  {
   "cell_type": "markdown",
   "id": "87154c8a",
   "metadata": {},
   "source": [
    "Given the fact that the our top three features are bmi, s5 and bp, it would only be appropriate if the two 2 new features were related to these features.\n",
    "\n",
    "For the 2 new features, I want to choose blood pressure category and bmi category. For the blood pressure category, I want to add 'Normal', 'Elevated', 'High' and 'Extremely High' categories. As for the bmi category, I want to add 'Underweight', 'Normal Weight', 'Overweight' and 'Obese' categories."
   ]
  },
  {
   "cell_type": "code",
   "execution_count": 85,
   "id": "67bcf483",
   "metadata": {},
   "outputs": [],
   "source": [
    "diabetes_DF['bp_category'] = pd.cut(diabetes_DF['bp'], bins=[0, 80, 90, 120, 1000],\n",
    "                           labels=['Normal', 'Elevated', 'High', 'Extremely High'])\n",
    "\n",
    "\n",
    "diabetes_DF['bmi_category'] = pd.cut(diabetes_DF['bmi'], bins=[0, 18.5, 25, 30, 100],\n",
    "                            labels=['Underweight', 'Normal Weight', 'Overweight', 'Obese'])\n",
    "\n",
    "reorder_columns = ['age', 'sex', 'bp', 'bmi', 's1', 's2', 's3', 's4', 's5', 's6', 'bp_category', 'bmi_category', 'progression']\n",
    "\n",
    "diabetes_DF = diabetes_DF[reorder_columns]"
   ]
  },
  {
   "cell_type": "code",
   "execution_count": 86,
   "id": "7dbe1983",
   "metadata": {},
   "outputs": [
    {
     "data": {
      "text/html": [
       "<div>\n",
       "<style scoped>\n",
       "    .dataframe tbody tr th:only-of-type {\n",
       "        vertical-align: middle;\n",
       "    }\n",
       "\n",
       "    .dataframe tbody tr th {\n",
       "        vertical-align: top;\n",
       "    }\n",
       "\n",
       "    .dataframe thead th {\n",
       "        text-align: right;\n",
       "    }\n",
       "</style>\n",
       "<table border=\"1\" class=\"dataframe\">\n",
       "  <thead>\n",
       "    <tr style=\"text-align: right;\">\n",
       "      <th></th>\n",
       "      <th>age</th>\n",
       "      <th>sex</th>\n",
       "      <th>bp</th>\n",
       "      <th>bmi</th>\n",
       "      <th>s1</th>\n",
       "      <th>s2</th>\n",
       "      <th>s3</th>\n",
       "      <th>s4</th>\n",
       "      <th>s5</th>\n",
       "      <th>s6</th>\n",
       "      <th>bp_category</th>\n",
       "      <th>bmi_category</th>\n",
       "      <th>progression</th>\n",
       "    </tr>\n",
       "  </thead>\n",
       "  <tbody>\n",
       "    <tr>\n",
       "      <th>0</th>\n",
       "      <td>59</td>\n",
       "      <td>2</td>\n",
       "      <td>101.0</td>\n",
       "      <td>32.1</td>\n",
       "      <td>157</td>\n",
       "      <td>93.2</td>\n",
       "      <td>38.0</td>\n",
       "      <td>4.0</td>\n",
       "      <td>4.8598</td>\n",
       "      <td>87</td>\n",
       "      <td>High</td>\n",
       "      <td>Obese</td>\n",
       "      <td>151</td>\n",
       "    </tr>\n",
       "    <tr>\n",
       "      <th>1</th>\n",
       "      <td>48</td>\n",
       "      <td>1</td>\n",
       "      <td>87.0</td>\n",
       "      <td>21.6</td>\n",
       "      <td>183</td>\n",
       "      <td>103.2</td>\n",
       "      <td>70.0</td>\n",
       "      <td>3.0</td>\n",
       "      <td>3.8918</td>\n",
       "      <td>69</td>\n",
       "      <td>Elevated</td>\n",
       "      <td>Normal Weight</td>\n",
       "      <td>75</td>\n",
       "    </tr>\n",
       "    <tr>\n",
       "      <th>2</th>\n",
       "      <td>72</td>\n",
       "      <td>2</td>\n",
       "      <td>93.0</td>\n",
       "      <td>30.5</td>\n",
       "      <td>156</td>\n",
       "      <td>93.6</td>\n",
       "      <td>41.0</td>\n",
       "      <td>4.0</td>\n",
       "      <td>4.6728</td>\n",
       "      <td>85</td>\n",
       "      <td>High</td>\n",
       "      <td>Obese</td>\n",
       "      <td>141</td>\n",
       "    </tr>\n",
       "    <tr>\n",
       "      <th>3</th>\n",
       "      <td>24</td>\n",
       "      <td>1</td>\n",
       "      <td>84.0</td>\n",
       "      <td>25.3</td>\n",
       "      <td>198</td>\n",
       "      <td>131.4</td>\n",
       "      <td>40.0</td>\n",
       "      <td>5.0</td>\n",
       "      <td>4.8903</td>\n",
       "      <td>89</td>\n",
       "      <td>Elevated</td>\n",
       "      <td>Overweight</td>\n",
       "      <td>206</td>\n",
       "    </tr>\n",
       "    <tr>\n",
       "      <th>4</th>\n",
       "      <td>50</td>\n",
       "      <td>1</td>\n",
       "      <td>101.0</td>\n",
       "      <td>23.0</td>\n",
       "      <td>192</td>\n",
       "      <td>125.4</td>\n",
       "      <td>52.0</td>\n",
       "      <td>4.0</td>\n",
       "      <td>4.2905</td>\n",
       "      <td>80</td>\n",
       "      <td>High</td>\n",
       "      <td>Normal Weight</td>\n",
       "      <td>135</td>\n",
       "    </tr>\n",
       "  </tbody>\n",
       "</table>\n",
       "</div>"
      ],
      "text/plain": [
       "   age  sex     bp   bmi   s1     s2    s3   s4      s5  s6 bp_category  \\\n",
       "0   59    2  101.0  32.1  157   93.2  38.0  4.0  4.8598  87        High   \n",
       "1   48    1   87.0  21.6  183  103.2  70.0  3.0  3.8918  69    Elevated   \n",
       "2   72    2   93.0  30.5  156   93.6  41.0  4.0  4.6728  85        High   \n",
       "3   24    1   84.0  25.3  198  131.4  40.0  5.0  4.8903  89    Elevated   \n",
       "4   50    1  101.0  23.0  192  125.4  52.0  4.0  4.2905  80        High   \n",
       "\n",
       "    bmi_category  progression  \n",
       "0          Obese          151  \n",
       "1  Normal Weight           75  \n",
       "2          Obese          141  \n",
       "3     Overweight          206  \n",
       "4  Normal Weight          135  "
      ]
     },
     "execution_count": 86,
     "metadata": {},
     "output_type": "execute_result"
    }
   ],
   "source": [
    "diabetes_DF.head(5)"
   ]
  },
  {
   "cell_type": "markdown",
   "id": "fa4b08fa",
   "metadata": {},
   "source": [
    "## Pre-process necessary features"
   ]
  },
  {
   "cell_type": "code",
   "execution_count": 99,
   "id": "4e810a06",
   "metadata": {},
   "outputs": [],
   "source": [
    "from sklearn.preprocessing import StandardScaler\n",
    "from sklearn.impute import SimpleImputer\n",
    "from sklearn.preprocessing import OneHotEncoder\n",
    "from sklearn.feature_selection import SelectPercentile, chi2\n",
    "from sklearn.compose import ColumnTransformer\n",
    "from sklearn.linear_model import LinearRegression\n",
    "from sklearn.preprocessing import FunctionTransformer"
   ]
  },
  {
   "cell_type": "code",
   "execution_count": 100,
   "id": "2851894f",
   "metadata": {},
   "outputs": [
    {
     "data": {
      "text/plain": [
       "age             0\n",
       "sex             0\n",
       "bp              0\n",
       "bmi             0\n",
       "s1              0\n",
       "s2              0\n",
       "s3              0\n",
       "s4              0\n",
       "s5              0\n",
       "s6              0\n",
       "bp_category     0\n",
       "bmi_category    0\n",
       "progression     0\n",
       "dtype: int64"
      ]
     },
     "execution_count": 100,
     "metadata": {},
     "output_type": "execute_result"
    }
   ],
   "source": [
    "diabetes_DF.isnull().sum()"
   ]
  },
  {
   "cell_type": "code",
   "execution_count": 125,
   "id": "7369923a",
   "metadata": {},
   "outputs": [],
   "source": [
    "#numeric_features = ['bmi', 's5', 'bp']\n",
    "numeric_features = ['s5']\n",
    "numeric_transformer = Pipeline(steps = [(\"imputer\", SimpleImputer(strategy=\"median\")), (\"scaler\", StandardScaler())])"
   ]
  },
  {
   "cell_type": "code",
   "execution_count": 126,
   "id": "567bcde5",
   "metadata": {},
   "outputs": [],
   "source": [
    "categorical_features = ['bp_category', 'bmi_category']\n",
    "categorical_transformer = Pipeline(steps=[(\"encoder\", OneHotEncoder(handle_unknown=\"ignore\")), (\"selector\", SelectPercentile(chi2, percentile=50))])"
   ]
  },
  {
   "cell_type": "code",
   "execution_count": 127,
   "id": "d268a7ef",
   "metadata": {},
   "outputs": [],
   "source": [
    "preprocessor = ColumnTransformer(transformers=[(\"num\", numeric_transformer, numeric_features),(\"cat\", categorical_transformer, categorical_features)])\n",
    "#preprocessor = ColumnTransformer(transformers=[(\"num\", numeric_transformer, numeric_features)])\n",
    "#preprocessor = ColumnTransformer(transformers=[(\"cat\", categorical_transformer, categorical_features)])"
   ]
  },
  {
   "cell_type": "markdown",
   "id": "a2c67558",
   "metadata": {},
   "source": [
    "## Predict how disease progresses 1 year from datapoint"
   ]
  },
  {
   "cell_type": "code",
   "execution_count": 323,
   "id": "696f3dc0",
   "metadata": {},
   "outputs": [],
   "source": [
    "from sklearn.linear_model import LinearRegression\n",
    "from sklearn.linear_model import LogisticRegression\n",
    "from sklearn.linear_model import Ridge\n",
    "from sklearn.linear_model import Lasso\n",
    "from sklearn.tree import DecisionTreeRegressor\n",
    "from sklearn.ensemble import RandomForestRegressor\n",
    "from sklearn.ensemble import GradientBoostingRegressor\n",
    "from sklearn.svm import SVR\n",
    "from sklearn.neighbors import KNeighborsRegressor\n",
    "from sklearn.linear_model import BayesianRidge\n",
    "\n",
    "pipeline = Pipeline(steps=[(\"preprocessor\", preprocessor), (\"regressor\", LinearRegression())])"
   ]
  },
  {
   "cell_type": "code",
   "execution_count": 324,
   "id": "6066e526",
   "metadata": {},
   "outputs": [],
   "source": [
    "#X = diabetes_DF[['bmi', 's5', 'bp']]\n",
    "X = diabetes_DF[['bp_category', 'bmi_category', 's5']]\n",
    "y = diabetes_DF['progression']"
   ]
  },
  {
   "cell_type": "code",
   "execution_count": 325,
   "id": "fc8c3f87",
   "metadata": {},
   "outputs": [],
   "source": [
    "from sklearn.model_selection import train_test_split\n",
    "\n",
    "X_train, X_test, y_train, y_test = train_test_split(X, y, test_size=0.2, random_state=42)"
   ]
  },
  {
   "cell_type": "code",
   "execution_count": 326,
   "id": "63b48200",
   "metadata": {},
   "outputs": [
    {
     "name": "stdout",
     "output_type": "stream",
     "text": [
      "Total time: 0.01 seconds\n"
     ]
    }
   ],
   "source": [
    "import time\n",
    "\n",
    "start_time = time.time()\n",
    "\n",
    "pipeline.fit(X_train, y_train)\n",
    "\n",
    "end_time = time.time()\n",
    "\n",
    "total_time = end_time - start_time\n",
    "\n",
    "print(\"Total time: {:.2f} seconds\".format(total_time))"
   ]
  },
  {
   "cell_type": "code",
   "execution_count": 327,
   "id": "a7267df0",
   "metadata": {},
   "outputs": [
    {
     "data": {
      "text/html": [
       "<div>\n",
       "<style scoped>\n",
       "    .dataframe tbody tr th:only-of-type {\n",
       "        vertical-align: middle;\n",
       "    }\n",
       "\n",
       "    .dataframe tbody tr th {\n",
       "        vertical-align: top;\n",
       "    }\n",
       "\n",
       "    .dataframe thead th {\n",
       "        text-align: right;\n",
       "    }\n",
       "</style>\n",
       "<table border=\"1\" class=\"dataframe\">\n",
       "  <thead>\n",
       "    <tr style=\"text-align: right;\">\n",
       "      <th></th>\n",
       "      <th>bp_category</th>\n",
       "      <th>bmi_category</th>\n",
       "      <th>s5</th>\n",
       "    </tr>\n",
       "  </thead>\n",
       "  <tbody>\n",
       "    <tr>\n",
       "      <th>287</th>\n",
       "      <td>Elevated</td>\n",
       "      <td>Overweight</td>\n",
       "      <td>4.9972</td>\n",
       "    </tr>\n",
       "  </tbody>\n",
       "</table>\n",
       "</div>"
      ],
      "text/plain": [
       "    bp_category bmi_category      s5\n",
       "287    Elevated   Overweight  4.9972"
      ]
     },
     "execution_count": 327,
     "metadata": {},
     "output_type": "execute_result"
    }
   ],
   "source": [
    "data_point = X_test.iloc[0:1]\n",
    "data_point"
   ]
  },
  {
   "cell_type": "code",
   "execution_count": 328,
   "id": "3c94559a",
   "metadata": {},
   "outputs": [
    {
     "name": "stdout",
     "output_type": "stream",
     "text": [
      "The predicted progression of the disease after 1 year of the datapoint is: [179.3279604]\n"
     ]
    }
   ],
   "source": [
    "y_pred = pipeline.predict(data_point)\n",
    "print(f'The predicted progression of the disease after 1 year of the datapoint is: {y_pred}')"
   ]
  },
  {
   "cell_type": "markdown",
   "id": "f90ef044",
   "metadata": {},
   "source": [
    "## Report score/accuracy in at least 2 different formats"
   ]
  },
  {
   "cell_type": "code",
   "execution_count": 318,
   "id": "11b24b5c",
   "metadata": {},
   "outputs": [],
   "source": [
    "y_pred = pipeline.predict(X_test)"
   ]
  },
  {
   "cell_type": "markdown",
   "id": "7a476540",
   "metadata": {},
   "source": [
    "### Mean sqaured error (MSE)"
   ]
  },
  {
   "cell_type": "code",
   "execution_count": 319,
   "id": "a4f51509",
   "metadata": {},
   "outputs": [
    {
     "name": "stdout",
     "output_type": "stream",
     "text": [
      "Mean Squared Error:  2869.4675953658934\n"
     ]
    }
   ],
   "source": [
    "from sklearn.metrics import mean_squared_error\n",
    "\n",
    "mse = mean_squared_error(y_test, y_pred)\n",
    "print(\"Mean Squared Error: \", mse)"
   ]
  },
  {
   "cell_type": "markdown",
   "id": "7d434b3b",
   "metadata": {},
   "source": [
    "### Mean absolute error (MAE)"
   ]
  },
  {
   "cell_type": "code",
   "execution_count": 320,
   "id": "0a2edda8",
   "metadata": {},
   "outputs": [
    {
     "name": "stdout",
     "output_type": "stream",
     "text": [
      "Mean Absolute Error: 43.63753046703108\n"
     ]
    }
   ],
   "source": [
    "from sklearn.metrics import mean_absolute_error\n",
    "mae = mean_absolute_error(y_test, y_pred)\n",
    "print(\"Mean Absolute Error:\", mae)"
   ]
  },
  {
   "cell_type": "markdown",
   "id": "5642da2d",
   "metadata": {},
   "source": [
    "### Pearson's correlation coefficient"
   ]
  },
  {
   "cell_type": "code",
   "execution_count": 321,
   "id": "11ef227e",
   "metadata": {},
   "outputs": [
    {
     "name": "stdout",
     "output_type": "stream",
     "text": [
      "Pearson's correlation coefficient: 0.6793270142614429\n"
     ]
    }
   ],
   "source": [
    "from scipy.stats import pearsonr\n",
    "\n",
    "corr, _ = pearsonr(y_test, y_pred)\n",
    "print(\"Pearson's correlation coefficient:\", corr)"
   ]
  },
  {
   "cell_type": "markdown",
   "id": "ee21feaa",
   "metadata": {},
   "source": [
    "### R-Squared (R2 / determination coeffient) / Variance score"
   ]
  },
  {
   "cell_type": "code",
   "execution_count": 275,
   "id": "d8260129",
   "metadata": {},
   "outputs": [
    {
     "name": "stdout",
     "output_type": "stream",
     "text": [
      "The R-Squared score is: 0.45637440412431496\n"
     ]
    }
   ],
   "source": [
    "score = model.score(X_test, y_test)\n",
    "print(f'The R-Squared score is: {score}')"
   ]
  }
 ],
 "metadata": {
  "kernelspec": {
   "display_name": "Python 3 (ipykernel)",
   "language": "python",
   "name": "python3"
  },
  "language_info": {
   "codemirror_mode": {
    "name": "ipython",
    "version": 3
   },
   "file_extension": ".py",
   "mimetype": "text/x-python",
   "name": "python",
   "nbconvert_exporter": "python",
   "pygments_lexer": "ipython3",
   "version": "3.10.9"
  }
 },
 "nbformat": 4,
 "nbformat_minor": 5
}
